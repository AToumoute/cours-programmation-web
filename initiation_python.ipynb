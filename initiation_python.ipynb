{
 "cells": [
  {
   "cell_type": "code",
   "execution_count": 16,
   "id": "15c9a090",
   "metadata": {},
   "outputs": [
    {
     "data": {
      "text/plain": [
       "[1, 2, 3, 4, 5, 6, 7, 8, 9, 10]"
      ]
     },
     "execution_count": 16,
     "metadata": {},
     "output_type": "execute_result"
    }
   ],
   "source": [
    "l = list(range(1,11,))\n",
    "l\n",
    "l[2:8:1]\n",
    "sum(l)\n",
    "l\n",
    "sorted(l, reverse=True)\n",
    "l"
   ]
  },
  {
   "cell_type": "code",
   "execution_count": 7,
   "id": "6e7111a4",
   "metadata": {},
   "outputs": [
    {
     "data": {
      "text/plain": [
       "[['girafe', 4], ['tigre', 2], ['singe', 5]]"
      ]
     },
     "execution_count": 7,
     "metadata": {},
     "output_type": "execute_result"
    }
   ],
   "source": [
    "enclos1 = [\"girafe\", 4]\n",
    "enclos2 = [\"tigre\", 2]\n",
    "enclos3 = [\"singe\", 5]\n",
    "zoo = [enclos1, enclos2, enclos3]\n",
    "\n",
    "#zoo[0][1]\n",
    "zoo\n",
    "\n",
    "zoo.count([\"girafe\", 4])\n",
    "zoo"
   ]
  },
  {
   "cell_type": "markdown",
   "id": "e32ecf03",
   "metadata": {},
   "source": [
    "# Structure de données : Dictionnaire"
   ]
  },
  {
   "cell_type": "markdown",
   "id": "68886317",
   "metadata": {},
   "source": [
    "Keys:values"
   ]
  },
  {
   "cell_type": "code",
   "execution_count": 30,
   "id": "7b3e30c8",
   "metadata": {},
   "outputs": [
    {
     "data": {
      "text/plain": [
       "{'to': 1, 'ti': 2, 'ta': 3, 'tu': 4, 'te': 5, 'ty': 6}"
      ]
     },
     "execution_count": 30,
     "metadata": {},
     "output_type": "execute_result"
    }
   ],
   "source": [
    "di = {\"to\":1, \"ti\":2, \"ta\":3, \"tu\":4, \"te\":5, \"ty\":6}\n",
    "di\n"
   ]
  },
  {
   "cell_type": "code",
   "execution_count": 31,
   "id": "d4eac08a",
   "metadata": {},
   "outputs": [
    {
     "data": {
      "text/plain": [
       "5"
      ]
     },
     "execution_count": 31,
     "metadata": {},
     "output_type": "execute_result"
    }
   ],
   "source": [
    "di[\"te\"]\n",
    "\n"
   ]
  },
  {
   "cell_type": "code",
   "execution_count": 47,
   "id": "ccdf750e",
   "metadata": {},
   "outputs": [
    {
     "name": "stdout",
     "output_type": "stream",
     "text": [
      "499500\n"
     ]
    }
   ],
   "source": [
    "croicroi = range(0,10**3)\n",
    "list(croicroi)\n",
    "print(sum(croicroi))\n"
   ]
  },
  {
   "cell_type": "code",
   "execution_count": 53,
   "id": "d0e40641",
   "metadata": {},
   "outputs": [
    {
     "data": {
      "text/plain": [
       "'Mian'"
      ]
     },
     "execution_count": 53,
     "metadata": {},
     "output_type": "execute_result"
    }
   ],
   "source": [
    "liste = [True, 'Tracy', \"Mian\", 20]\n",
    "liste[]\n"
   ]
  },
  {
   "cell_type": "code",
   "execution_count": 54,
   "id": "e28dde14",
   "metadata": {},
   "outputs": [],
   "source": [
    "dico = {0: \"Lundi\", 1: \"Mardi\", 2:\"Mercredi\", 3:\"Jeudi\", 4:\"vendredi\", 5:\"Samedi\", 6:\"Dimanche\"}"
   ]
  },
  {
   "cell_type": "code",
   "execution_count": 55,
   "id": "86744391",
   "metadata": {},
   "outputs": [
    {
     "data": {
      "text/plain": [
       "{0: 'Lundi',\n",
       " 1: 'Mardi',\n",
       " 2: 'Mercredi',\n",
       " 3: 'Jeudi',\n",
       " 4: 'vendredi',\n",
       " 5: 'Samedi',\n",
       " 6: 'Dimanche'}"
      ]
     },
     "execution_count": 55,
     "metadata": {},
     "output_type": "execute_result"
    }
   ],
   "source": [
    "dico"
   ]
  },
  {
   "cell_type": "code",
   "execution_count": 56,
   "id": "a600984b",
   "metadata": {},
   "outputs": [
    {
     "data": {
      "text/plain": [
       "{0: 'Lundi',\n",
       " '0': 'Mardi',\n",
       " 2: 'Mercredi',\n",
       " 3: 'Jeudi',\n",
       " 4: 'vendredi',\n",
       " 5: 'Samedi',\n",
       " 6: 'Dimanche'}"
      ]
     },
     "execution_count": 56,
     "metadata": {},
     "output_type": "execute_result"
    }
   ],
   "source": [
    "dico_ts = {0: \"Lundi\", '0': \"Mardi\", 2:\"Mercredi\", 3:\"Jeudi\", 4:\"vendredi\", 5:\"Samedi\", 6:\"Dimanche\"}\n",
    "\n",
    "dico_ts"
   ]
  },
  {
   "cell_type": "code",
   "execution_count": 57,
   "id": "ad44cbec",
   "metadata": {},
   "outputs": [
    {
     "data": {
      "text/plain": [
       "'Lundi'"
      ]
     },
     "execution_count": 57,
     "metadata": {},
     "output_type": "execute_result"
    }
   ],
   "source": [
    "dico[0]"
   ]
  },
  {
   "cell_type": "code",
   "execution_count": 58,
   "id": "74a9e52c",
   "metadata": {},
   "outputs": [
    {
     "data": {
      "text/plain": [
       "'vendredi'"
      ]
     },
     "execution_count": 58,
     "metadata": {},
     "output_type": "execute_result"
    }
   ],
   "source": [
    "dico[4]"
   ]
  },
  {
   "cell_type": "code",
   "execution_count": 59,
   "id": "26b4cef7",
   "metadata": {},
   "outputs": [],
   "source": [
    "dico_str = {'L': \"Lundi\", 'M': \"Mardi\", 'Me':\"Mercredi\", 'J':\"Jeudi\", 'V':\"vendredi\", 'S':\"Samedi\", 'D':\"Dimanche\"}"
   ]
  },
  {
   "cell_type": "code",
   "execution_count": 60,
   "id": "e5f4ffda",
   "metadata": {},
   "outputs": [
    {
     "data": {
      "text/plain": [
       "{'L': 'Lundi',\n",
       " 'M': 'Mardi',\n",
       " 'Me': 'Mercredi',\n",
       " 'J': 'Jeudi',\n",
       " 'V': 'vendredi',\n",
       " 'S': 'Samedi',\n",
       " 'D': 'Dimanche'}"
      ]
     },
     "execution_count": 60,
     "metadata": {},
     "output_type": "execute_result"
    }
   ],
   "source": [
    "dico_str"
   ]
  },
  {
   "cell_type": "code",
   "execution_count": 61,
   "id": "dd469974",
   "metadata": {},
   "outputs": [
    {
     "data": {
      "text/plain": [
       "'Lundi'"
      ]
     },
     "execution_count": 61,
     "metadata": {},
     "output_type": "execute_result"
    }
   ],
   "source": [
    "dico_str['L']"
   ]
  },
  {
   "cell_type": "code",
   "execution_count": 62,
   "id": "f27c67dd",
   "metadata": {},
   "outputs": [
    {
     "data": {
      "text/plain": [
       "'Mercredi'"
      ]
     },
     "execution_count": 62,
     "metadata": {},
     "output_type": "execute_result"
    }
   ],
   "source": [
    "dico_str['Me']"
   ]
  },
  {
   "cell_type": "code",
   "execution_count": 55,
   "id": "320976d7",
   "metadata": {},
   "outputs": [
    {
     "data": {
      "text/plain": [
       "str"
      ]
     },
     "execution_count": 55,
     "metadata": {},
     "output_type": "execute_result"
    }
   ],
   "source": [
    "d = {\"nom\":\"Pierre\", \"age\":\"19\", \"sport\":[\"Football\", \"Taekwondo\"] }\n",
    "d\n"
   ]
  },
  {
   "cell_type": "code",
   "execution_count": 54,
   "id": "0899ef2b",
   "metadata": {},
   "outputs": [
    {
     "ename": "NameError",
     "evalue": "name 'd' is not defined",
     "output_type": "error",
     "traceback": [
      "\u001b[1;31m---------------------------------------------------------------------------\u001b[0m",
      "\u001b[1;31mNameError\u001b[0m                                 Traceback (most recent call last)",
      "Cell \u001b[1;32mIn[54], line 1\u001b[0m\n\u001b[1;32m----> 1\u001b[0m \u001b[38;5;28mtype\u001b[39m(\u001b[43md\u001b[49m[\u001b[38;5;124m\"\u001b[39m\u001b[38;5;124mage\u001b[39m\u001b[38;5;124m\"\u001b[39m])\n\u001b[0;32m      2\u001b[0m d[\u001b[38;5;124m'\u001b[39m\u001b[38;5;124mage\u001b[39m\u001b[38;5;124m'\u001b[39m] \u001b[38;5;241m=\u001b[39m \u001b[38;5;241m19\u001b[39m\n\u001b[0;32m      3\u001b[0m d\n",
      "\u001b[1;31mNameError\u001b[0m: name 'd' is not defined"
     ]
    }
   ],
   "source": [
    "type(d[\"age\"])\n",
    "d['age'] = 19\n",
    "d"
   ]
  },
  {
   "cell_type": "code",
   "execution_count": 56,
   "id": "1a50e1e2",
   "metadata": {},
   "outputs": [
    {
     "data": {
      "text/plain": [
       "{'nom': 'Pierre',\n",
       " 'age': '19',\n",
       " 'sport': ['Football', 'Taekwondo'],\n",
       " 'email': 'toto@gmail.com',\n",
       " 'taille': 1.17,\n",
       " 'genre': 'Masculin',\n",
       " 'tanatos': 'bouchon'}"
      ]
     },
     "execution_count": 56,
     "metadata": {},
     "output_type": "execute_result"
    }
   ],
   "source": [
    "# inserer un element dans le dictionnaire d\n",
    "\n",
    "## ajouter un cle:valeur dans le dictionnaire crée A NE PAS FAIRE\n",
    "#d = {\"nom\":\"Pierre\", \"age\":\"19\", \"sport\":[\"Football\", \"Taekwondo\"], \"email\":\"toto@gmail.com\" }\n",
    "## affectation directe\n",
    "d[\"email\"] = \"toto@gmail.com\"\n",
    "d[\"taille\"] = 1.17 \n",
    "d[\"genre\"] = \"Masculin\" \n",
    "\n",
    "d"
   ]
  },
  {
   "cell_type": "code",
   "execution_count": 57,
   "id": "c2757b08",
   "metadata": {},
   "outputs": [
    {
     "data": {
      "text/plain": [
       "{'nom': 'Pierre',\n",
       " 'age': 20,\n",
       " 'sport': ['Football', 'Taekwondo'],\n",
       " 'email': 'toto@gmail.com',\n",
       " 'taille': 1.17,\n",
       " 'genre': 'Masculin',\n",
       " 'tanatos': 'bouchon'}"
      ]
     },
     "execution_count": 57,
     "metadata": {},
     "output_type": "execute_result"
    }
   ],
   "source": [
    "# modification  de la valeur d'un element\n",
    "\n",
    "d['age'] = 20\n",
    "d"
   ]
  },
  {
   "cell_type": "code",
   "execution_count": 3,
   "id": "15468bf8",
   "metadata": {},
   "outputs": [
    {
     "data": {
      "text/plain": [
       "{'nom': 'Pierre',\n",
       " 'age': '19',\n",
       " 'sport': 'Football',\n",
       " 'email': 'toto@gmail.com',\n",
       " 'genre': 'Masculin',\n",
       " 'tanatos': 'bouchon'}"
      ]
     },
     "execution_count": 3,
     "metadata": {},
     "output_type": "execute_result"
    }
   ],
   "source": [
    "# suppression d'une cle et la valeur d'un dictionnaire averc la cle et la fonctio, del\n",
    "## option 1\n",
    "d= {'nom': 'Pierre','age': '19','sport': 'Football','email': 'toto@gmail.com','taille': 1.17,'genre': 'Masculin', 'tanatos': 'bouchon'}\n",
    "del d['taille']\n",
    "d\n"
   ]
  },
  {
   "cell_type": "code",
   "execution_count": 17,
   "id": "6e5acc13",
   "metadata": {},
   "outputs": [
    {
     "name": "stdout",
     "output_type": "stream",
     "text": [
      "{'nom': 'Pierre', 'age': '19', 'sport': 'Football', 'email': 'toto@gmail.com', 'tanatos': 'bouchon'}\n",
      "valeur supprimé =  None\n"
     ]
    },
    {
     "data": {
      "text/plain": [
       "{'nom': 'Pierre',\n",
       " 'age': '19',\n",
       " 'sport': 'Football',\n",
       " 'email': 'toto@gmail.com',\n",
       " 'tanatos': 'bouchon'}"
      ]
     },
     "execution_count": 17,
     "metadata": {},
     "output_type": "execute_result"
    }
   ],
   "source": [
    "# suppression d'un cle du dictionnaire\n",
    "## option 2\n",
    "print(d)\n",
    "print(\"valeur supprimé = \",d.pop('genre', None))\n",
    "d"
   ]
  },
  {
   "cell_type": "code",
   "execution_count": 69,
   "id": "d8312b39",
   "metadata": {},
   "outputs": [
    {
     "data": {
      "text/plain": [
       "{'nom': 'Pierre',\n",
       " 'age': 19,\n",
       " 'sport': ['Football', 'Taekwondo'],\n",
       " 'email': 'toto@gmail.com'}"
      ]
     },
     "execution_count": 69,
     "metadata": {},
     "output_type": "execute_result"
    }
   ],
   "source": [
    "d"
   ]
  },
  {
   "cell_type": "code",
   "execution_count": 25,
   "id": "2b0f7ba0",
   "metadata": {},
   "outputs": [
    {
     "data": {
      "text/plain": [
       "{'nom': 'Pierre',\n",
       " 'sport': 'Football',\n",
       " 'email': 'toto@gmail.com',\n",
       " 'tanatos': 'bouchon'}"
      ]
     },
     "execution_count": 25,
     "metadata": {},
     "output_type": "execute_result"
    }
   ],
   "source": [
    "d.pop('genre', None)\n",
    "d.pop('taille', None)\n",
    "d"
   ]
  },
  {
   "cell_type": "code",
   "execution_count": 71,
   "id": "4ff113c4",
   "metadata": {},
   "outputs": [],
   "source": [
    "# suppression d'un cle du dictionnaire\n",
    "## option 3 : supprimer une cle inexistante\n",
    "# del d['poids'] ---> impossible \n",
    "d.pop('poids', None)"
   ]
  },
  {
   "cell_type": "code",
   "execution_count": 72,
   "id": "756d5b54",
   "metadata": {},
   "outputs": [
    {
     "data": {
      "text/plain": [
       "dict_keys(['nom', 'age', 'sport', 'email'])"
      ]
     },
     "execution_count": 72,
     "metadata": {},
     "output_type": "execute_result"
    }
   ],
   "source": [
    "# lister les clés du dictionnaire\n",
    "d.keys()"
   ]
  },
  {
   "cell_type": "code",
   "execution_count": 73,
   "id": "a7412416",
   "metadata": {},
   "outputs": [
    {
     "data": {
      "text/plain": [
       "dict_values(['Pierre', 19, ['Football', 'Taekwondo'], 'toto@gmail.com'])"
      ]
     },
     "execution_count": 73,
     "metadata": {},
     "output_type": "execute_result"
    }
   ],
   "source": [
    "# lister les valeurs du dictionnaire\n",
    "d.values()"
   ]
  },
  {
   "cell_type": "code",
   "execution_count": 74,
   "id": "f7a75017",
   "metadata": {},
   "outputs": [
    {
     "data": {
      "text/plain": [
       "dict_items([('nom', 'Pierre'), ('age', 19), ('sport', ['Football', 'Taekwondo']), ('email', 'toto@gmail.com')])"
      ]
     },
     "execution_count": 74,
     "metadata": {},
     "output_type": "execute_result"
    }
   ],
   "source": [
    "# lister les couples clés valeurs du dictionnaire\n",
    "d.items()"
   ]
  },
  {
   "cell_type": "code",
   "execution_count": 75,
   "id": "a98e6a75",
   "metadata": {},
   "outputs": [
    {
     "data": {
      "text/plain": [
       "int"
      ]
     },
     "execution_count": 75,
     "metadata": {},
     "output_type": "execute_result"
    }
   ],
   "source": [
    "type(d['age'])"
   ]
  },
  {
   "cell_type": "code",
   "execution_count": 76,
   "id": "4b4d902d",
   "metadata": {},
   "outputs": [
    {
     "data": {
      "text/plain": [
       "str"
      ]
     },
     "execution_count": 76,
     "metadata": {},
     "output_type": "execute_result"
    }
   ],
   "source": [
    "d['age'] = '19'\n",
    "type(d['age'])"
   ]
  },
  {
   "cell_type": "code",
   "execution_count": 77,
   "id": "4bd44a40",
   "metadata": {},
   "outputs": [
    {
     "data": {
      "text/plain": [
       "'19'"
      ]
     },
     "execution_count": 77,
     "metadata": {},
     "output_type": "execute_result"
    }
   ],
   "source": [
    "d['age']"
   ]
  },
  {
   "cell_type": "code",
   "execution_count": 78,
   "id": "e8106ec4",
   "metadata": {},
   "outputs": [
    {
     "data": {
      "text/plain": [
       "19"
      ]
     },
     "execution_count": 78,
     "metadata": {},
     "output_type": "execute_result"
    }
   ],
   "source": [
    "int(d['age'])"
   ]
  },
  {
   "cell_type": "code",
   "execution_count": 79,
   "id": "5d1c4b0e",
   "metadata": {},
   "outputs": [
    {
     "data": {
      "text/plain": [
       "{'nom': 'Pierre',\n",
       " 'age': '19',\n",
       " 'sport': ['Football', 'Taekwondo'],\n",
       " 'email': 'toto@gmail.com'}"
      ]
     },
     "execution_count": 79,
     "metadata": {},
     "output_type": "execute_result"
    }
   ],
   "source": [
    "d \n"
   ]
  },
  {
   "cell_type": "code",
   "execution_count": 80,
   "id": "90e3f08c",
   "metadata": {},
   "outputs": [
    {
     "data": {
      "text/plain": [
       "['Football', 'Taekwondo']"
      ]
     },
     "execution_count": 80,
     "metadata": {},
     "output_type": "execute_result"
    }
   ],
   "source": [
    "d['sport']"
   ]
  },
  {
   "cell_type": "code",
   "execution_count": 81,
   "id": "165769a8",
   "metadata": {},
   "outputs": [
    {
     "data": {
      "text/plain": [
       "{True: 'salut', False: 'Hello'}"
      ]
     },
     "execution_count": 81,
     "metadata": {},
     "output_type": "execute_result"
    }
   ],
   "source": [
    "#  A ne SURTOUT pas faire \n",
    "d_t = {True: 'Bonjour', False: 'Hello', 1:'salut'}\n",
    "d_t"
   ]
  },
  {
   "cell_type": "code",
   "execution_count": 82,
   "id": "a39b25f4",
   "metadata": {},
   "outputs": [
    {
     "data": {
      "text/plain": [
       "{'nom': 'Pierre',\n",
       " 'age': '19',\n",
       " 'sport': ['Football', 'Taekwondo'],\n",
       " 'email': 'toto@gmail.com'}"
      ]
     },
     "execution_count": 82,
     "metadata": {},
     "output_type": "execute_result"
    }
   ],
   "source": [
    "d"
   ]
  },
  {
   "cell_type": "code",
   "execution_count": 27,
   "id": "a04f63e3",
   "metadata": {},
   "outputs": [
    {
     "name": "stdout",
     "output_type": "stream",
     "text": [
      "1: Pierre\n",
      "2: Pierre\n"
     ]
    },
    {
     "data": {
      "text/plain": [
       "NoneType"
      ]
     },
     "execution_count": 27,
     "metadata": {},
     "output_type": "execute_result"
    }
   ],
   "source": [
    "# accès à un element du dictionnaire\n",
    "print(f\"1: {d['nom']}\")\n",
    "print(f\"2: {d.get('nom')}\")\n",
    "#d[\"prenom\"] # ---> la cle doit exister dans le dictionnnaire\n",
    "type(d.get(\"prenom\")) # ---> la  presence de la cle est facultative."
   ]
  },
  {
   "cell_type": "code",
   "execution_count": 84,
   "id": "94661322",
   "metadata": {},
   "outputs": [
    {
     "data": {
      "text/plain": [
       "NoneType"
      ]
     },
     "execution_count": 84,
     "metadata": {},
     "output_type": "execute_result"
    }
   ],
   "source": [
    "type(d.get(\"prenom\"))"
   ]
  },
  {
   "cell_type": "code",
   "execution_count": 85,
   "id": "8afd5db9",
   "metadata": {},
   "outputs": [
    {
     "data": {
      "text/plain": [
       "True"
      ]
     },
     "execution_count": 85,
     "metadata": {},
     "output_type": "execute_result"
    }
   ],
   "source": [
    "None == d.get(\"prenom\")"
   ]
  },
  {
   "cell_type": "markdown",
   "id": "de5b8303",
   "metadata": {},
   "source": [
    "### Exercice :\n",
    "Soit le dictionnaire d = {’nom’: ’Dupuis’, ’prenom’: ’Jacque’,\n",
    "’age’: 30} \\newline\n",
    "Corriger l’erreur dans le prénom, la bonne valeur est ’Jacques’.\n",
    "Afficher la liste des clés du dictionnaire.\n",
    "Afficher la liste des valeurs du dictionnaire.\n",
    "Afficher la liste des paires clé/valeur du dictionnaire.\n",
    "Ecrire la phrase ”Jacques Dupuis a 30 ans”."
   ]
  },
  {
   "cell_type": "code",
   "execution_count": 38,
   "id": "aeed29b2",
   "metadata": {},
   "outputs": [
    {
     "name": "stdout",
     "output_type": "stream",
     "text": [
      "dict_keys(['nom', 'prenom', 'age'])\n",
      "dict_values(['Dupuis', 'jacques', '30'])\n",
      "dict_items([('nom', 'Dupuis'), ('prenom', 'jacques'), ('age', '30')])\n"
     ]
    },
    {
     "data": {
      "text/plain": [
       "{'nom': 'Dupuis',\n",
       " 'prenom': 'jacques',\n",
       " 'age': '30',\n",
       " 'phrase': 'jacques depuis 20ans'}"
      ]
     },
     "execution_count": 38,
     "metadata": {},
     "output_type": "execute_result"
    }
   ],
   "source": [
    "dd = {\"nom\":\"Dupuis\", \"prenom\": \"Jacque\",\"age\":\"30\"}\n",
    "dd[\"prenom\"]=\"jacques\"\n",
    "print(dd.keys())\n",
    "print(dd.values())\n",
    "print(dd.items())\n",
    "dd[\"phrase\"]=\"jacques depuis 20ans\"\n",
    "dd"
   ]
  },
  {
   "cell_type": "code",
   "execution_count": 91,
   "id": "c78a8890",
   "metadata": {},
   "outputs": [
    {
     "name": "stdout",
     "output_type": "stream",
     "text": [
      " Jacques Dupuis a 30 ans \n",
      " Jacques Dupuis a 30 ans \n"
     ]
    }
   ],
   "source": [
    "# afficher le message ”Jacques Dupuis a 30 ans”.\n",
    "print(f\" {d['prenom']} {d['nom']} a {d['age']} ans \")\n",
    "print(f\" {d.get('prenom')} {d.get('nom')} a {d.get('age')} ans \")"
   ]
  },
  {
   "cell_type": "code",
   "execution_count": 92,
   "id": "ec859977",
   "metadata": {},
   "outputs": [
    {
     "data": {
      "text/plain": [
       "dict"
      ]
     },
     "execution_count": 92,
     "metadata": {},
     "output_type": "execute_result"
    }
   ],
   "source": [
    "# type d'une variable dictionnaire\n",
    "type(d)"
   ]
  },
  {
   "cell_type": "markdown",
   "id": "dc2f145a",
   "metadata": {},
   "source": [
    "Exercice :\n",
    "    creer un dictionnaire et retourner la valeur d une cle. \n",
    "    NB: dans certains cas, la clé est absente dans le dictionnaire.\n",
    "    "
   ]
  },
  {
   "cell_type": "markdown",
   "id": "7096b697",
   "metadata": {},
   "source": [
    "## Tuples "
   ]
  },
  {
   "cell_type": "code",
   "execution_count": 93,
   "id": "11ff857d",
   "metadata": {},
   "outputs": [],
   "source": [
    "t = (1,2,3,4,5,6,7,8,9,10)"
   ]
  },
  {
   "cell_type": "code",
   "execution_count": 94,
   "id": "b57ae68e",
   "metadata": {},
   "outputs": [
    {
     "data": {
      "text/plain": [
       "(1, 2, 3, 4, 5, 6, 7, 8, 9, 10)"
      ]
     },
     "execution_count": 94,
     "metadata": {},
     "output_type": "execute_result"
    }
   ],
   "source": [
    "t"
   ]
  },
  {
   "cell_type": "code",
   "execution_count": 95,
   "id": "23e38536",
   "metadata": {},
   "outputs": [
    {
     "data": {
      "text/plain": [
       "tuple"
      ]
     },
     "execution_count": 95,
     "metadata": {},
     "output_type": "execute_result"
    }
   ],
   "source": [
    "type(t)"
   ]
  },
  {
   "cell_type": "code",
   "execution_count": 96,
   "id": "e401bc51",
   "metadata": {},
   "outputs": [
    {
     "data": {
      "text/plain": [
       "8"
      ]
     },
     "execution_count": 96,
     "metadata": {},
     "output_type": "execute_result"
    }
   ],
   "source": [
    "t[7]"
   ]
  },
  {
   "cell_type": "code",
   "execution_count": 97,
   "id": "164f671e",
   "metadata": {},
   "outputs": [
    {
     "data": {
      "text/plain": [
       "8"
      ]
     },
     "execution_count": 97,
     "metadata": {},
     "output_type": "execute_result"
    }
   ],
   "source": [
    "t[-3]"
   ]
  },
  {
   "cell_type": "code",
   "execution_count": 98,
   "id": "94ff2b55",
   "metadata": {},
   "outputs": [
    {
     "data": {
      "text/plain": [
       "(2, 3, 4, 5)"
      ]
     },
     "execution_count": 98,
     "metadata": {},
     "output_type": "execute_result"
    }
   ],
   "source": [
    "t[1:5]"
   ]
  },
  {
   "cell_type": "code",
   "execution_count": 100,
   "id": "bb0c8304",
   "metadata": {},
   "outputs": [
    {
     "ename": "TypeError",
     "evalue": "'tuple' object does not support item assignment",
     "output_type": "error",
     "traceback": [
      "\u001b[0;31m---------------------------------------------------------------------------\u001b[0m",
      "\u001b[0;31mTypeError\u001b[0m                                 Traceback (most recent call last)",
      "Cell \u001b[0;32mIn[100], line 2\u001b[0m\n\u001b[1;32m      1\u001b[0m \u001b[38;5;66;03m# erreur à ne pas faire\u001b[39;00m\n\u001b[0;32m----> 2\u001b[0m t[\u001b[38;5;241m7\u001b[39m] \u001b[38;5;241m=\u001b[39m \u001b[38;5;241m80\u001b[39m\n",
      "\u001b[0;31mTypeError\u001b[0m: 'tuple' object does not support item assignment"
     ]
    }
   ],
   "source": [
    "# erreur à ne pas faire\n",
    "t[7] = 80\n"
   ]
  },
  {
   "cell_type": "markdown",
   "id": "523cefb6",
   "metadata": {},
   "source": [
    "## Set"
   ]
  },
  {
   "cell_type": "code",
   "execution_count": 43,
   "id": "26114805",
   "metadata": {},
   "outputs": [
    {
     "name": "stdout",
     "output_type": "stream",
     "text": [
      "<class 'set'>\n"
     ]
    }
   ],
   "source": [
    "s = {1,2,3,4,5, 'a', 'b', 'a', 'b', 'a'}\n",
    "print(type(s))\n"
   ]
  },
  {
   "cell_type": "code",
   "execution_count": null,
   "id": "c5b7ba73",
   "metadata": {},
   "outputs": [],
   "source": [
    "s"
   ]
  },
  {
   "cell_type": "code",
   "execution_count": 44,
   "id": "614bde03",
   "metadata": {},
   "outputs": [
    {
     "data": {
      "text/plain": [
       "{1, 2, 3, 4, 5}"
      ]
     },
     "execution_count": 44,
     "metadata": {},
     "output_type": "execute_result"
    }
   ],
   "source": [
    "l = [1,2,2,3,3,4,4,5,5]\n",
    "s_prime = set(l)\n",
    "s_prime"
   ]
  },
  {
   "cell_type": "code",
   "execution_count": null,
   "id": "252e4537",
   "metadata": {},
   "outputs": [],
   "source": [
    "s[3]"
   ]
  },
  {
   "cell_type": "code",
   "execution_count": 49,
   "id": "9128532b",
   "metadata": {},
   "outputs": [
    {
     "name": "stdout",
     "output_type": "stream",
     "text": [
      "<class 'set'>\n"
     ]
    },
    {
     "data": {
      "text/plain": [
       "{' ',\n",
       " 'M',\n",
       " 'a',\n",
       " 'b',\n",
       " 'c',\n",
       " 'e',\n",
       " 'h',\n",
       " 'n',\n",
       " 'o',\n",
       " 'p',\n",
       " 'r',\n",
       " 's',\n",
       " 't',\n",
       " 'u',\n",
       " 'é',\n",
       " 'ı',\n",
       " '̂'}"
      ]
     },
     "execution_count": 49,
     "metadata": {},
     "output_type": "execute_result"
    }
   ],
   "source": [
    "b=set(\"Maı̂tre corbeau sur un arbre perché\")\n",
    "print(type(b))\n",
    "b"
   ]
  },
  {
   "cell_type": "code",
   "execution_count": 54,
   "id": "61953817",
   "metadata": {},
   "outputs": [
    {
     "data": {
      "text/plain": [
       "{2, 4, 6, 8, 12, 16, 20}"
      ]
     },
     "execution_count": 54,
     "metadata": {},
     "output_type": "execute_result"
    }
   ],
   "source": [
    "A = {2, 4, 6, 8}\n",
    "B = {4, 8, 12, 16, 20}\n",
    "\n",
    "A.union(B)"
   ]
  },
  {
   "cell_type": "code",
   "execution_count": 55,
   "id": "ddcda836",
   "metadata": {},
   "outputs": [
    {
     "data": {
      "text/plain": [
       "{4, 8}"
      ]
     },
     "execution_count": 55,
     "metadata": {},
     "output_type": "execute_result"
    }
   ],
   "source": [
    "A.intersection(B)"
   ]
  },
  {
   "cell_type": "code",
   "execution_count": 56,
   "id": "f0bcbbee",
   "metadata": {},
   "outputs": [
    {
     "data": {
      "text/plain": [
       "{2, 6, 12, 16, 20}"
      ]
     },
     "execution_count": 56,
     "metadata": {},
     "output_type": "execute_result"
    }
   ],
   "source": [
    "A.union(B) - A.intersection(B)"
   ]
  },
  {
   "cell_type": "code",
   "execution_count": null,
   "id": "34c59f10",
   "metadata": {},
   "outputs": [],
   "source": [
    "A = {6, 8, 10, 12, 14, 16}\n",
    "B = {9, 12, 15, 18, 21, 24}\n",
    "C = {4, 8, 12, 16, 20, 24, 28}\n",
    "\n",
    "A.union(B.union(C))"
   ]
  },
  {
   "cell_type": "code",
   "execution_count": 57,
   "id": "97f21968",
   "metadata": {},
   "outputs": [
    {
     "data": {
      "text/plain": [
       "{4, 8}"
      ]
     },
     "execution_count": 57,
     "metadata": {},
     "output_type": "execute_result"
    }
   ],
   "source": [
    "A.intersection(B.intersection(C))"
   ]
  },
  {
   "cell_type": "code",
   "execution_count": null,
   "id": "202c828b",
   "metadata": {},
   "outputs": [],
   "source": [
    "A.union(B.union(C)) - A.intersection(B.intersection(C))"
   ]
  },
  {
   "cell_type": "markdown",
   "id": "5d91ec41",
   "metadata": {},
   "source": [
    "## test des ensembles: elements repetitifs dans plusieurs ensembles \n"
   ]
  },
  {
   "cell_type": "code",
   "execution_count": 58,
   "id": "dbbb28f1",
   "metadata": {},
   "outputs": [
    {
     "name": "stdout",
     "output_type": "stream",
     "text": [
      " 636, intersection : 110, union : 985, list_ext: 875\n"
     ]
    }
   ],
   "source": [
    "import random as rd\n",
    "start = 10\n",
    "end = 1000\n",
    "step = 1000\n",
    "\n",
    "A = []; B = []; C = []; D = []; E = []\n",
    "for i in range(0,step,1):\n",
    "    elt = rd.randrange(start, end)\n",
    "    A.append(elt)\n",
    "    elt = rd.randrange(start, end)\n",
    "    B.append(elt)\n",
    "    elt = rd.randrange(start, end)\n",
    "    C.append(elt)\n",
    "    elt = rd.randrange(start, end)\n",
    "    D.append(elt)\n",
    "    elt = rd.randrange(start, end)\n",
    "    E.append(elt)\n",
    "\n",
    "A = set(A)\n",
    "B = set(B)\n",
    "C = set(C)\n",
    "D = set(D)\n",
    "E = set(E)\n",
    "    \n",
    "liste_com = A.intersection(B.intersection(C.intersection(D.intersection(E))))\n",
    "liste_union = A.union(B.union(C.union(D.union(E))))\n",
    "liste_ext = liste_union - liste_com\n",
    "\n",
    "print(f\" {len(A)}, intersection : {len(liste_com)}, union : {len(liste_union)}, list_ext: {len(liste_ext)}\")"
   ]
  },
  {
   "cell_type": "markdown",
   "id": "94c64541",
   "metadata": {},
   "source": [
    "# Structrures de controle"
   ]
  },
  {
   "cell_type": "code",
   "execution_count": null,
   "id": "cda3234c",
   "metadata": {},
   "outputs": [],
   "source": [
    "\"Bamba\" == \"Tracy\""
   ]
  },
  {
   "cell_type": "code",
   "execution_count": null,
   "id": "23203830",
   "metadata": {},
   "outputs": [],
   "source": [
    "\"Bamba\" != \"Tracy\""
   ]
  },
  {
   "cell_type": "code",
   "execution_count": null,
   "id": "2137ab79",
   "metadata": {},
   "outputs": [],
   "source": [
    "#round(2/3, 15)\n",
    "0.6667 == round(2/3, 4)"
   ]
  },
  {
   "cell_type": "code",
   "execution_count": 108,
   "id": "0fb897b3",
   "metadata": {},
   "outputs": [
    {
     "name": "stdout",
     "output_type": "stream",
     "text": [
      "5\n",
      "6\n",
      "7\n",
      "8\n",
      "9\n"
     ]
    }
   ],
   "source": [
    "for n in range(5, 10):\n",
    "    print(f\"{n}\")\n"
   ]
  },
  {
   "cell_type": "code",
   "execution_count": 59,
   "id": "7d9f28ad",
   "metadata": {},
   "outputs": [
    {
     "name": "stdout",
     "output_type": "stream",
     "text": [
      "8\n",
      "4 strictement inférieure à 8\n"
     ]
    }
   ],
   "source": [
    "x, y = 8, 4\n",
    "print(x)\n",
    "if x < y :\n",
    "    print(f\"{x} strictement supérieure à 8\")\n",
    "else:\n",
    "    print(f\"{y} strictement inférieure à {x}\")"
   ]
  },
  {
   "cell_type": "code",
   "execution_count": 61,
   "id": "c4132c82",
   "metadata": {},
   "outputs": [
    {
     "name": "stdout",
     "output_type": "stream",
     "text": [
      "x contient une valeur comprise entre 0 et 10\n"
     ]
    }
   ],
   "source": [
    "x = 4\n",
    "if x < 0:\n",
    "    print(\"x contient une valeur négatif\")\n",
    "elif x < 10:\n",
    "    print(\"x contient une valeur comprise entre 0 et 10\")\n",
    "elif x < 100:\n",
    "    print(\"x contient une valeur comprise entre 10 et 100\")\n",
    "else:\n",
    "    print(\"x contient une valeur supérieure à 100\")"
   ]
  },
  {
   "cell_type": "code",
   "execution_count": 63,
   "id": "f954c9b9",
   "metadata": {},
   "outputs": [
    {
     "name": "stdout",
     "output_type": "stream",
     "text": [
      "10\n",
      "x contient une valeur > 5\n"
     ]
    }
   ],
   "source": [
    "## imbrication \n",
    "x, y = 1, 2\n",
    "x, y = 10, 5\n",
    "\n",
    "if x < 5:\n",
    "    if y < 10:\n",
    "        print(\"x strictement inférieure à 5 et y une valeur inférieure à 10\")\n",
    "    else:\n",
    "        print(\"x contient une valeur < à 5 et y une valeur >= 10\")\n",
    "else:\n",
    "    print(\"x contient une valeur > 5\")"
   ]
  },
  {
   "cell_type": "code",
   "execution_count": 64,
   "id": "099b397d",
   "metadata": {},
   "outputs": [
    {
     "name": "stdout",
     "output_type": "stream",
     "text": [
      "x contient une valeur > 5\n"
     ]
    }
   ],
   "source": [
    "x, y = 10, 5\n",
    "if x < 5 and y < 10:\n",
    "        print(\"x strictement inférieure à 5 et y une valeur inférieure à 10\")\n",
    "elif x < 5 and y >= 10:\n",
    "        print(\"x contient une valeur < à 5 et y une valeur >= 10\")\n",
    "else:\n",
    "    print(\"x contient une valeur > 5\")"
   ]
  },
  {
   "cell_type": "code",
   "execution_count": 65,
   "id": "2363abe3",
   "metadata": {},
   "outputs": [
    {
     "name": "stdout",
     "output_type": "stream",
     "text": [
      "x une valeur inférieure à 5 et y une valeur inférieure à 10\n"
     ]
    }
   ],
   "source": [
    "x, y = 1, 5\n",
    "if x < y and y < 10:\n",
    "    print(\"x une valeur inférieure à 5 et y une valeur inférieure à 10\")"
   ]
  },
  {
   "cell_type": "code",
   "execution_count": 66,
   "id": "0538c1ed",
   "metadata": {},
   "outputs": [
    {
     "name": "stdout",
     "output_type": "stream",
     "text": [
      "x une valeur inférieure à 5 et y une valeur inférieure à 10\n"
     ]
    }
   ],
   "source": [
    "x, y = 1, 5\n",
    "if x < y or y < 10:\n",
    "    print(\"x une valeur inférieure à 5 et y une valeur inférieure à 10\")"
   ]
  },
  {
   "cell_type": "code",
   "execution_count": 67,
   "id": "61a3fd25",
   "metadata": {},
   "outputs": [
    {
     "name": "stdout",
     "output_type": "stream",
     "text": [
      "Sialou n'est pas dans la liste\n"
     ]
    }
   ],
   "source": [
    "prenoms = [\"Pierre\", \"Mathilde\", \"Florian\", \"Thomas\"]\n",
    "if \"Sialou\" in prenoms:\n",
    "    print(\"Sialou est dans la liste\")\n",
    "else:\n",
    "    print(\"Sialou n'est pas dans la liste\")"
   ]
  },
  {
   "cell_type": "code",
   "execution_count": 68,
   "id": "71efa1ce",
   "metadata": {},
   "outputs": [
    {
     "name": "stdout",
     "output_type": "stream",
     "text": [
      "Sialou n est pas dans la liste\n"
     ]
    }
   ],
   "source": [
    "if \"Sialou\" not in prenoms:\n",
    "    print(\"Sialou n est pas dans la liste\")\n",
    "else:\n",
    "    print(\"Sialou est dans la liste\")"
   ]
  },
  {
   "cell_type": "code",
   "execution_count": 70,
   "id": "1f4e8d37",
   "metadata": {},
   "outputs": [
    {
     "name": "stdout",
     "output_type": "stream",
     "text": [
      "x = {x}\n",
      "x = {x}\n",
      "x = {x}\n",
      "x = {x}\n",
      "x = {x}\n",
      "x = {x}\n",
      "x = {x}\n",
      "x = {x}\n",
      "x = {x}\n",
      "x = {x}\n",
      "10\n"
     ]
    }
   ],
   "source": [
    "x=0\n",
    "while x < 10:\n",
    "    print(\"x = {x}\")\n",
    "    x += 1 # x = x + 1\n",
    "\n",
    "print(x)"
   ]
  },
  {
   "cell_type": "code",
   "execution_count": 71,
   "id": "de1ebed9",
   "metadata": {},
   "outputs": [
    {
     "name": "stdout",
     "output_type": "stream",
     "text": [
      "1\n",
      "5\n",
      "Pierre\n",
      "Trail\n"
     ]
    }
   ],
   "source": [
    "liste = [1, 5, \"Pierre\", \"Trail\"]\n",
    "for i in liste:\n",
    "    print(f\"{i}\")"
   ]
  },
  {
   "cell_type": "code",
   "execution_count": null,
   "id": "bc1cb2c9",
   "metadata": {},
   "outputs": [],
   "source": [
    "liste =  [\"Agba\", \"Somien\", \"Junior\", \"Silue\"]"
   ]
  },
  {
   "cell_type": "markdown",
   "id": "675833c7",
   "metadata": {},
   "source": [
    "# Fonctions"
   ]
  },
  {
   "cell_type": "markdown",
   "id": "7c0ca240",
   "metadata": {},
   "source": [
    "## fonctions predefinies"
   ]
  },
  {
   "cell_type": "code",
   "execution_count": 109,
   "id": "78f3b87e",
   "metadata": {},
   "outputs": [
    {
     "data": {
      "text/plain": [
       "16"
      ]
     },
     "execution_count": 109,
     "metadata": {},
     "output_type": "execute_result"
    }
   ],
   "source": [
    "pow(2,4)"
   ]
  },
  {
   "cell_type": "code",
   "execution_count": 110,
   "id": "a5696f33",
   "metadata": {},
   "outputs": [
    {
     "data": {
      "text/plain": [
       "1.5"
      ]
     },
     "execution_count": 110,
     "metadata": {},
     "output_type": "execute_result"
    }
   ],
   "source": [
    "abs(-1.5)"
   ]
  },
  {
   "cell_type": "code",
   "execution_count": null,
   "id": "f6d8fa03",
   "metadata": {},
   "outputs": [],
   "source": [
    "liste = list(range(10,15))\n",
    "set(liste)"
   ]
  },
  {
   "cell_type": "code",
   "execution_count": 73,
   "id": "7fbb6ec0",
   "metadata": {},
   "outputs": [
    {
     "name": "stdout",
     "output_type": "stream",
     "text": [
      "[1, 5, 'Pierre', 'Trail']\n"
     ]
    },
    {
     "data": {
      "text/plain": [
       "[(0, 1), (1, 5), (2, 'Pierre'), (3, 'Trail')]"
      ]
     },
     "execution_count": 73,
     "metadata": {},
     "output_type": "execute_result"
    }
   ],
   "source": [
    "print(liste)\n",
    "list(enumerate(liste))"
   ]
  },
  {
   "cell_type": "code",
   "execution_count": 72,
   "id": "4695ea7a",
   "metadata": {},
   "outputs": [
    {
     "data": {
      "text/plain": [
       "24879848"
      ]
     },
     "execution_count": 72,
     "metadata": {},
     "output_type": "execute_result"
    }
   ],
   "source": [
    "id(liste)"
   ]
  },
  {
   "cell_type": "code",
   "execution_count": 74,
   "id": "3b03523a",
   "metadata": {},
   "outputs": [
    {
     "data": {
      "text/plain": [
       "['A',\n",
       " 'B',\n",
       " 'C',\n",
       " 'D',\n",
       " 'E',\n",
       " 'In',\n",
       " 'Out',\n",
       " '_',\n",
       " '_14',\n",
       " '_17',\n",
       " '_19',\n",
       " '_20',\n",
       " '_21',\n",
       " '_25',\n",
       " '_26',\n",
       " '_27',\n",
       " '_3',\n",
       " '_31',\n",
       " '_32',\n",
       " '_33',\n",
       " '_34',\n",
       " '_35',\n",
       " '_36',\n",
       " '_37',\n",
       " '_38',\n",
       " '_4',\n",
       " '_44',\n",
       " '_45',\n",
       " '_48',\n",
       " '_49',\n",
       " '_50',\n",
       " '_54',\n",
       " '_55',\n",
       " '_56',\n",
       " '_57',\n",
       " '_72',\n",
       " '_73',\n",
       " '__',\n",
       " '___',\n",
       " '__builtin__',\n",
       " '__builtins__',\n",
       " '__doc__',\n",
       " '__loader__',\n",
       " '__name__',\n",
       " '__package__',\n",
       " '__spec__',\n",
       " '__vsc_ipynb_file__',\n",
       " '_dh',\n",
       " '_i',\n",
       " '_i1',\n",
       " '_i10',\n",
       " '_i11',\n",
       " '_i12',\n",
       " '_i13',\n",
       " '_i14',\n",
       " '_i15',\n",
       " '_i16',\n",
       " '_i17',\n",
       " '_i18',\n",
       " '_i19',\n",
       " '_i2',\n",
       " '_i20',\n",
       " '_i21',\n",
       " '_i22',\n",
       " '_i23',\n",
       " '_i24',\n",
       " '_i25',\n",
       " '_i26',\n",
       " '_i27',\n",
       " '_i28',\n",
       " '_i29',\n",
       " '_i3',\n",
       " '_i30',\n",
       " '_i31',\n",
       " '_i32',\n",
       " '_i33',\n",
       " '_i34',\n",
       " '_i35',\n",
       " '_i36',\n",
       " '_i37',\n",
       " '_i38',\n",
       " '_i39',\n",
       " '_i4',\n",
       " '_i40',\n",
       " '_i41',\n",
       " '_i42',\n",
       " '_i43',\n",
       " '_i44',\n",
       " '_i45',\n",
       " '_i46',\n",
       " '_i47',\n",
       " '_i48',\n",
       " '_i49',\n",
       " '_i5',\n",
       " '_i50',\n",
       " '_i51',\n",
       " '_i52',\n",
       " '_i53',\n",
       " '_i54',\n",
       " '_i55',\n",
       " '_i56',\n",
       " '_i57',\n",
       " '_i58',\n",
       " '_i59',\n",
       " '_i6',\n",
       " '_i60',\n",
       " '_i61',\n",
       " '_i62',\n",
       " '_i63',\n",
       " '_i64',\n",
       " '_i65',\n",
       " '_i66',\n",
       " '_i67',\n",
       " '_i68',\n",
       " '_i69',\n",
       " '_i7',\n",
       " '_i70',\n",
       " '_i71',\n",
       " '_i72',\n",
       " '_i73',\n",
       " '_i74',\n",
       " '_i8',\n",
       " '_i9',\n",
       " '_ih',\n",
       " '_ii',\n",
       " '_iii',\n",
       " '_oh',\n",
       " 'b',\n",
       " 'd',\n",
       " 'dd',\n",
       " 'elt',\n",
       " 'end',\n",
       " 'exit',\n",
       " 'get_ipython',\n",
       " 'i',\n",
       " 'l',\n",
       " 'liste',\n",
       " 'liste_com',\n",
       " 'liste_ext',\n",
       " 'liste_union',\n",
       " 'open',\n",
       " 'prenoms',\n",
       " 'quit',\n",
       " 'rd',\n",
       " 's',\n",
       " 's_prime',\n",
       " 'start',\n",
       " 'step',\n",
       " 'x',\n",
       " 'y']"
      ]
     },
     "execution_count": 74,
     "metadata": {},
     "output_type": "execute_result"
    }
   ],
   "source": [
    "dir()"
   ]
  },
  {
   "cell_type": "markdown",
   "id": "874817da",
   "metadata": {},
   "source": [
    "## fonctions définies "
   ]
  },
  {
   "cell_type": "markdown",
   "id": "a9f3c90b",
   "metadata": {},
   "source": [
    "Ecrire un code qui :\n",
    "* initialise une liste avec des valeurs nulles puis \n",
    "* modifie les valeurs de la liste avec des données aléatoires et enfin\n",
    "* affiche ces données à l'écran."
   ]
  },
  {
   "cell_type": "code",
   "execution_count": 83,
   "id": "5d3f299e",
   "metadata": {},
   "outputs": [
    {
     "ename": "ModuleNotFoundError",
     "evalue": "No module named 'numpy'",
     "output_type": "error",
     "traceback": [
      "\u001b[1;31m---------------------------------------------------------------------------\u001b[0m",
      "\u001b[1;31mModuleNotFoundError\u001b[0m                       Traceback (most recent call last)",
      "Cell \u001b[1;32mIn[83], line 1\u001b[0m\n\u001b[1;32m----> 1\u001b[0m \u001b[38;5;28;01mimport\u001b[39;00m \u001b[38;5;21;01mnumpy\u001b[39;00m \u001b[38;5;28;01mas\u001b[39;00m \u001b[38;5;21;01mnp\u001b[39;00m\n\u001b[0;32m      3\u001b[0m liste \u001b[38;5;241m=\u001b[39m []\n\u001b[0;32m      4\u001b[0m N \u001b[38;5;241m=\u001b[39m \u001b[38;5;241m20\u001b[39m\n",
      "\u001b[1;31mModuleNotFoundError\u001b[0m: No module named 'numpy'"
     ]
    }
   ],
   "source": [
    "import numpy as np\n",
    "\n",
    "liste = []\n",
    "N = 20\n",
    "# initialisation\n",
    "for i in range(0,20):\n",
    "    liste.append(0)\n",
    "\n",
    "# modification_liste\n",
    "for i in range(0,20):\n",
    "    nbre_alea = np.random.normal()\n",
    "    liste[i] = nbre_alea\n",
    "  \n",
    "# affichage\n",
    "for i in range(0,20):\n",
    "    print(f\" i = {i}, valeur = {liste[i]} \")\n",
    "    pass\n"
   ]
  },
  {
   "cell_type": "code",
   "execution_count": 112,
   "id": "cb1519ec",
   "metadata": {},
   "outputs": [],
   "source": [
    "def initialisation(liste1):\n",
    "    for i in range(0,N):\n",
    "        liste1.append(0)\n",
    "    return liste1\n",
    "    pass\n",
    "\n",
    "\n",
    "def initialisation_liste(liste1, val_init=0):\n",
    "    for i in range(0,N):\n",
    "        liste1.append(val_init)\n",
    "    return liste1\n",
    "    pass\n",
    "\n",
    "# ----------- a ne jamais faire !!!!!  --------------------------------\n",
    "def initialisation_liste_tracy(liste):\n",
    "    for i in range(0,N):\n",
    "        liste1.append(2)\n",
    "    return liste1\n",
    "    pass\n",
    "\n",
    "def initialisation_liste_bamba(liste1):\n",
    "    for i in range(0,N):\n",
    "        liste1.append(20)\n",
    "    return liste1\n",
    "    pass\n",
    "\n",
    "def initialisation_liste_siaLou(liste1):\n",
    "    for i in range(0,N):\n",
    "        liste1.append(2000)\n",
    "    return liste1\n",
    "    pass\n",
    "\n",
    "def initialisation_liste_ngoran(liste1):\n",
    "    for i in range(0,N):\n",
    "        liste1.append(5000)\n",
    "    return liste1\n",
    "    pass\n",
    "\n",
    "# ----------- a ne jamais faire !!!!!  --------------------------------\n",
    "\n",
    "def modification_liste(liste2):\n",
    "    for i in range(0,N):\n",
    "        nbre_alea = np.random.normal()\n",
    "        liste2[i] = nbre_alea\n",
    "    return liste2\n",
    "    pass\n",
    "\n",
    "def affichage_liste(liste3):\n",
    "    for i in range(0,N):\n",
    "        print(f\" i = {i}, valeur = {liste3[i]}\")\n",
    "    pass"
   ]
  },
  {
   "cell_type": "code",
   "execution_count": 114,
   "id": "591c87b6",
   "metadata": {},
   "outputs": [
    {
     "name": "stdout",
     "output_type": "stream",
     "text": [
      " i = 0, valeur = 0\n",
      " i = 1, valeur = 0\n",
      " i = 2, valeur = 0\n",
      " i = 3, valeur = 0\n",
      " i = 4, valeur = 0\n",
      " i = 5, valeur = 0\n",
      " i = 6, valeur = 0\n",
      " i = 7, valeur = 0\n",
      " i = 8, valeur = 0\n",
      " i = 9, valeur = 0\n",
      " i = 10, valeur = 0\n",
      " i = 11, valeur = 0\n",
      " i = 12, valeur = 0\n",
      " i = 13, valeur = 0\n",
      " i = 14, valeur = 0\n",
      " i = 15, valeur = 0\n",
      " i = 16, valeur = 0\n",
      " i = 17, valeur = 0\n",
      " i = 18, valeur = 0\n",
      " i = 19, valeur = 0\n",
      " i = 0, valeur = 0.846008981709815\n",
      " i = 1, valeur = -0.5419497431287033\n",
      " i = 2, valeur = -0.023518402329446804\n",
      " i = 3, valeur = -0.08481113445250522\n",
      " i = 4, valeur = -0.5104202053025375\n",
      " i = 5, valeur = 1.3427903760053195\n",
      " i = 6, valeur = 1.1079643093315683\n",
      " i = 7, valeur = 0.03902956911648588\n",
      " i = 8, valeur = -0.18936759024144653\n",
      " i = 9, valeur = -0.5187803161938118\n",
      " i = 10, valeur = 0.08379549642947554\n",
      " i = 11, valeur = 0.009694318374640423\n",
      " i = 12, valeur = 0.5481013055050737\n",
      " i = 13, valeur = -0.363803429840225\n",
      " i = 14, valeur = -0.7823613383188649\n",
      " i = 15, valeur = -0.8153641679634103\n",
      " i = 16, valeur = 0.36531441939462916\n",
      " i = 17, valeur = -0.17827110646298167\n",
      " i = 18, valeur = 0.4244214308124099\n",
      " i = 19, valeur = 0.4320805580021475\n"
     ]
    }
   ],
   "source": [
    "liste = []\n",
    "N = 20\n",
    "\n",
    "#initialisation_liste(liste1=liste, val_init=3)\n",
    "liste=initialisation(liste1=liste)\n",
    "affichage_liste(liste3=liste)\n",
    "liste = modification_liste(liste2=liste)\n",
    "affichage_liste(liste3=liste)"
   ]
  },
  {
   "cell_type": "code",
   "execution_count": 115,
   "id": "9c0d2f45",
   "metadata": {},
   "outputs": [
    {
     "name": "stdout",
     "output_type": "stream",
     "text": [
      " i = 0, valeur = 3\n",
      " i = 1, valeur = 3\n",
      " i = 2, valeur = 3\n",
      " i = 3, valeur = 3\n",
      " i = 4, valeur = 3\n",
      " i = 5, valeur = 3\n",
      " i = 6, valeur = 3\n",
      " i = 7, valeur = 3\n",
      " i = 8, valeur = 3\n",
      " i = 9, valeur = 3\n",
      " i = 10, valeur = 3\n",
      " i = 11, valeur = 3\n",
      " i = 12, valeur = 3\n",
      " i = 13, valeur = 3\n",
      " i = 14, valeur = 3\n",
      " i = 15, valeur = 3\n",
      " i = 16, valeur = 3\n",
      " i = 17, valeur = 3\n",
      " i = 18, valeur = 3\n",
      " i = 19, valeur = 3\n",
      " i = 0, valeur = -0.18361968384498306\n",
      " i = 1, valeur = -0.8501230962064396\n",
      " i = 2, valeur = -1.046661011638102\n",
      " i = 3, valeur = 0.24457406471324042\n",
      " i = 4, valeur = -0.1012647208762192\n",
      " i = 5, valeur = 0.4207928343156717\n",
      " i = 6, valeur = -0.25000624880575356\n",
      " i = 7, valeur = -0.42985496175608756\n",
      " i = 8, valeur = -1.0318825765128476\n",
      " i = 9, valeur = -0.9959527729096758\n",
      " i = 10, valeur = -0.17140484810862106\n",
      " i = 11, valeur = -0.05642781318283226\n",
      " i = 12, valeur = 1.3553990204284072\n",
      " i = 13, valeur = -0.9539087801942568\n",
      " i = 14, valeur = 0.8766178958443994\n",
      " i = 15, valeur = 0.4946221236007729\n",
      " i = 16, valeur = 2.2550654644235935\n",
      " i = 17, valeur = 1.044738873013712\n",
      " i = 18, valeur = -0.9093116944240587\n",
      " i = 19, valeur = -0.5393046674469455\n"
     ]
    }
   ],
   "source": [
    "liste = []\n",
    "N = 20\n",
    "\n",
    "liste = initialisation_liste(liste1=liste, val_init=3)\n",
    "affichage_liste(liste3=liste)\n",
    "liste = modification_liste(liste2=liste)\n",
    "affichage_liste(liste3=liste)"
   ]
  },
  {
   "cell_type": "markdown",
   "id": "41b39d79",
   "metadata": {},
   "source": [
    "## variables locales vs variables globales"
   ]
  },
  {
   "cell_type": "code",
   "execution_count": 116,
   "id": "8f7e19ff",
   "metadata": {},
   "outputs": [],
   "source": [
    "def produit(j=2):\n",
    "    for i in range(10, 15):\n",
    "        print(f\"i={i}, prod={i*j}\")"
   ]
  },
  {
   "cell_type": "code",
   "execution_count": 118,
   "id": "9dbd4a57",
   "metadata": {
    "scrolled": true
   },
   "outputs": [
    {
     "name": "stdout",
     "output_type": "stream",
     "text": [
      "i=1\n",
      "i=10, prod=10\n",
      "i=11, prod=11\n",
      "i=12, prod=12\n",
      "i=13, prod=13\n",
      "i=14, prod=14\n",
      "i=2\n",
      "i=10, prod=20\n",
      "i=11, prod=22\n",
      "i=12, prod=24\n",
      "i=13, prod=26\n",
      "i=14, prod=28\n",
      "i=3\n",
      "i=10, prod=30\n",
      "i=11, prod=33\n",
      "i=12, prod=36\n",
      "i=13, prod=39\n",
      "i=14, prod=42\n",
      "i=4\n",
      "i=10, prod=40\n",
      "i=11, prod=44\n",
      "i=12, prod=48\n",
      "i=13, prod=52\n",
      "i=14, prod=56\n"
     ]
    }
   ],
   "source": [
    "# fonction principale ou programme\n",
    "i = 0\n",
    "for i in range(1, 5):\n",
    "    print(f\"i={i}\")\n",
    "    produit(i)\n",
    "    pass\n"
   ]
  },
  {
   "cell_type": "code",
   "execution_count": null,
   "id": "d0884830",
   "metadata": {},
   "outputs": [],
   "source": [
    "d = {1:2, 3:4, 4:5}\n",
    "di = {2:d, 3:d}\n",
    "di"
   ]
  },
  {
   "cell_type": "markdown",
   "id": "34f380bc",
   "metadata": {},
   "source": [
    "### Exercices"
   ]
  },
  {
   "cell_type": "code",
   "execution_count": 13,
   "id": "4796ca77",
   "metadata": {},
   "outputs": [],
   "source": [
    "def bonjour(prenom):\n",
    "    print(f\"Bonjour {prenom}, comment vas tu?\")\n",
    "    \n",
    "def bonjourListe(Liste):\n",
    "    for elt in Liste:\n",
    "        print(f\"Bonjour {elt}, comment vas tu?\")\n",
    "        "
   ]
  },
  {
   "cell_type": "code",
   "execution_count": 14,
   "id": "19af876b",
   "metadata": {},
   "outputs": [
    {
     "name": "stdout",
     "output_type": "stream",
     "text": [
      "Bonjour almany, comment vas tu?\n"
     ]
    }
   ],
   "source": [
    "bonjour(\"almamy\")\n"
   ]
  },
  {
   "cell_type": "code",
   "execution_count": 16,
   "id": "953cb59a",
   "metadata": {},
   "outputs": [
    {
     "name": "stdout",
     "output_type": "stream",
     "text": [
      "Bonjour Yeo, comment vas tu?\n",
      "Bonjour Toure, comment vas tu?\n",
      "Bonjour latta, comment vas tu?\n",
      "Bonjour sayoub, comment vas tu?\n"
     ]
    }
   ],
   "source": [
    "liste1 = [\"Yeo\", \"Toure\", \"latta\", \"sayoub\"]\n",
    "bonjourListe(Liste=liste1)"
   ]
  },
  {
   "cell_type": "code",
   "execution_count": 120,
   "id": "26f1baeb",
   "metadata": {},
   "outputs": [
    {
     "name": "stdout",
     "output_type": "stream",
     "text": [
      "Bonjour Patrick, comment vas tu?\n",
      "Bonjour Leon, comment vas tu?\n",
      "Bonjour Sialou, comment vas tu?\n",
      "Bonjour Mian, comment vas tu?\n",
      "Bonjour Koffi, comment vas tu?\n",
      "Bonjour modeste, comment vas tu?\n"
     ]
    }
   ],
   "source": [
    "bonjour(\"Patrick\")\n",
    "bonjour(prenom=\"Leon\")\n",
    "\n",
    "liste = [\"Sialou\", \"Mian\", \"Koffi\", \"modeste\"]\n",
    "bonjourListe(Liste=liste)"
   ]
  },
  {
   "cell_type": "code",
   "execution_count": 87,
   "id": "f02f27b5",
   "metadata": {},
   "outputs": [
    {
     "data": {
      "text/plain": [
       "'C'"
      ]
     },
     "execution_count": 87,
     "metadata": {},
     "output_type": "execute_result"
    }
   ],
   "source": [
    "def max_dictionnaire(dico): \n",
    "    return max(d.keys(), key=(lambda k:d[k]) ) \n",
    "\n",
    "d = {\"C\":3, \"B\":2, \"A\":3, \"D\":1}\n",
    "max_dictionnaire(dico=d)"
   ]
  },
  {
   "cell_type": "markdown",
   "id": "7418f18e",
   "metadata": {},
   "source": [
    "Ecrire une programme qui fait la somme, soustraction, la multiplication et division de 2 nombres"
   ]
  },
  {
   "cell_type": "code",
   "execution_count": null,
   "id": "e278060c",
   "metadata": {},
   "outputs": [],
   "source": []
  },
  {
   "cell_type": "markdown",
   "id": "d34ab0d6",
   "metadata": {},
   "source": [
    "### Exercice : fonction factoriel"
   ]
  },
  {
   "cell_type": "code",
   "execution_count": null,
   "id": "3a4602b8",
   "metadata": {},
   "outputs": [
    {
     "ename": "SyntaxError",
     "evalue": "invalid syntax (197169515.py, line 3)",
     "output_type": "error",
     "traceback": [
      "\u001b[0;36m  Cell \u001b[0;32mIn[36], line 3\u001b[0;36m\u001b[0m\n\u001b[0;31m    print(type(nombre)== <class 'float'>)\u001b[0m\n\u001b[0m                         ^\u001b[0m\n\u001b[0;31mSyntaxError\u001b[0m\u001b[0;31m:\u001b[0m invalid syntax\n"
     ]
    }
   ],
   "source": [
    "def factoriel(nombre):\n",
    "    res = 1\n",
    "   # print(type(nombre)== <class'float'>) ===> A rechercher\n",
    "    if type(nombre) in [float, bool, str]:\n",
    "        res = -1\n",
    "    if nombre == 0 or nombre == 1:\n",
    "        res = 1\n",
    "    else:\n",
    "        for i in range(nombre, 1, -1):\n",
    "            res = res * i\n",
    "        \n",
    "    return res"
   ]
  },
  {
   "cell_type": "code",
   "execution_count": null,
   "id": "f043323f",
   "metadata": {},
   "outputs": [],
   "source": [
    "def Calcul(mode, val1, val2):\n",
    "    res = None\n",
    "    if mode == \"+\" or mode == 'addition' or mode == \"add\" or mode == \"plus\":\n",
    "        res = val1 + val2\n",
    "    elif mode == \"-\" or mode == 'soustraction' or mode == \"sous\" or mode == \"moins\":\n",
    "        res = val1 - val2\n",
    "    elif mode == \"*\" or mode == 'multiplication' or mode == \"mul\":\n",
    "        res = val1 * val2\n",
    "    elif mode == \"/\" or mode == 'division' or mode == \"div\":\n",
    "        if val2 != 0 :\n",
    "            res = val1 / val2\n",
    "        else:\n",
    "            res = \"CalculImpossible, division par zero\"\n",
    "    elif mode == \"^\" or mode == 'puissance' or mode == \"puis\":\n",
    "        res = pow(val1, val2)\n",
    "    elif mode == \"%\" or mode == 'modulo' or mode == 'mod':\n",
    "        if val2 != 0 :\n",
    "            res = val1 % val2\n",
    "        else:\n",
    "            res = \"CalculImpossible, div par zero\"\n",
    "    else:\n",
    "        print(\"Operation {mode} inconnue\")\n",
    "        \n",
    "    return res\n",
    "\n",
    "# premier cas\n",
    "resultat = Calcul(\"+\", val1=3, val2=5)\n",
    "print(f\"resultat = {resultat}\")\n",
    "\n",
    "# deuxieme cas\n",
    "nombre1 = input(\"entrez un nombre\")\n",
    "print(f\"type nombre={type(nombre1)}\")\n",
    "nombre2 = input(\"entrez un nombre\")\n",
    "Calcul(mode=\"/\", val1=float(nombre1), val2=float(nombre2))"
   ]
  },
  {
   "cell_type": "code",
   "execution_count": 34,
   "id": "020bbf39",
   "metadata": {},
   "outputs": [
    {
     "data": {
      "text/plain": [
       "int"
      ]
     },
     "execution_count": 34,
     "metadata": {},
     "output_type": "execute_result"
    }
   ],
   "source": [
    "list(range(3, 1, -1))\n",
    "type(3)"
   ]
  },
  {
   "cell_type": "code",
   "execution_count": null,
   "id": "e24736c1",
   "metadata": {},
   "outputs": [
    {
     "name": "stdout",
     "output_type": "stream",
     "text": [
      "<class 'int'>\n"
     ]
    },
    {
     "data": {
      "text/plain": [
       "6"
      ]
     },
     "execution_count": 37,
     "metadata": {},
     "output_type": "execute_result"
    }
   ],
   "source": [
    "factoriel(nombre=3)"
   ]
  },
  {
   "cell_type": "markdown",
   "id": "6ed7e249",
   "metadata": {},
   "source": [
    "# Modules ou bibliothèques"
   ]
  },
  {
   "cell_type": "markdown",
   "id": "e1f29c28",
   "metadata": {},
   "source": [
    "### Utilisation du module random"
   ]
  },
  {
   "cell_type": "code",
   "execution_count": null,
   "id": "8fb2da74",
   "metadata": {},
   "outputs": [],
   "source": [
    "import random "
   ]
  },
  {
   "cell_type": "code",
   "execution_count": 94,
   "id": "6e7dae71",
   "metadata": {},
   "outputs": [
    {
     "ename": "NameError",
     "evalue": "name 'random' is not defined",
     "output_type": "error",
     "traceback": [
      "\u001b[1;31m---------------------------------------------------------------------------\u001b[0m",
      "\u001b[1;31mNameError\u001b[0m                                 Traceback (most recent call last)",
      "Cell \u001b[1;32mIn[94], line 1\u001b[0m\n\u001b[1;32m----> 1\u001b[0m \u001b[43mrandom\u001b[49m\u001b[38;5;241m.\u001b[39mrandint(\u001b[38;5;241m0\u001b[39m, \u001b[38;5;241m10\u001b[39m)\n",
      "\u001b[1;31mNameError\u001b[0m: name 'random' is not defined"
     ]
    }
   ],
   "source": [
    "random.randint(0, 10)"
   ]
  },
  {
   "cell_type": "code",
   "execution_count": null,
   "id": "af80e5ec",
   "metadata": {},
   "outputs": [
    {
     "ename": "NameError",
     "evalue": "name 'random' is not defined",
     "output_type": "error",
     "traceback": [
      "\u001b[1;31m---------------------------------------------------------------------------\u001b[0m",
      "\u001b[1;31mNameError\u001b[0m                                 Traceback (most recent call last)",
      "Cell \u001b[1;32mIn[93], line 1\u001b[0m\n\u001b[1;32m----> 1\u001b[0m \u001b[43mrandom\u001b[49m\u001b[38;5;241m.\u001b[39mrandom()\n",
      "\u001b[1;31mNameError\u001b[0m: name 'random' is not defined"
     ]
    }
   ],
   "source": [
    "random.random()"
   ]
  },
  {
   "cell_type": "markdown",
   "id": "1155128f",
   "metadata": {},
   "source": [
    "### Utilisation des alias pour les modules"
   ]
  },
  {
   "cell_type": "code",
   "execution_count": null,
   "id": "c05f55b3",
   "metadata": {},
   "outputs": [
    {
     "data": {
      "text/plain": [
       "6"
      ]
     },
     "execution_count": 50,
     "metadata": {},
     "output_type": "execute_result"
    }
   ],
   "source": [
    "import random as rd\n",
    "rd.randint(0,10)"
   ]
  },
  {
   "cell_type": "code",
   "execution_count": 98,
   "id": "e41e52be",
   "metadata": {},
   "outputs": [
    {
     "data": {
      "text/plain": [
       "6"
      ]
     },
     "execution_count": 98,
     "metadata": {},
     "output_type": "execute_result"
    }
   ],
   "source": [
    "val = rd.randint(0,10)\n",
    "type(val)"
   ]
  },
  {
   "cell_type": "code",
   "execution_count": 106,
   "id": "4c2f8eeb",
   "metadata": {},
   "outputs": [
    {
     "data": {
      "text/plain": [
       "0.028826073890897863"
      ]
     },
     "execution_count": 106,
     "metadata": {},
     "output_type": "execute_result"
    }
   ],
   "source": [
    "val = rd.random()\n",
    "type(val)\n",
    "val"
   ]
  },
  {
   "cell_type": "markdown",
   "id": "092aa7b5",
   "metadata": {},
   "source": [
    "##### Generer N=5 nombres aleatoires entre 0 et 1"
   ]
  },
  {
   "cell_type": "markdown",
   "id": "75209e5f",
   "metadata": {},
   "source": [
    "##### methode1 : utilisation d'une boucle"
   ]
  },
  {
   "cell_type": "code",
   "execution_count": null,
   "id": "125d0348",
   "metadata": {},
   "outputs": [],
   "source": []
  },
  {
   "cell_type": "markdown",
   "id": "cabbffde",
   "metadata": {},
   "source": [
    "val = round(rd.random(),5)  ici 5 precise le nombre de chiffrre apres la virgule "
   ]
  },
  {
   "cell_type": "code",
   "execution_count": 116,
   "id": "8255089b",
   "metadata": {},
   "outputs": [
    {
     "name": "stdout",
     "output_type": "stream",
     "text": [
      "nombre 0 = 0.19077\n",
      "nombre 1 = 0.79428\n",
      "nombre 2 = 0.77513\n",
      "nombre 3 = 0.8911\n",
      "nombre 4 = 0.40766\n"
     ]
    }
   ],
   "source": [
    "for i in range(5):\n",
    "    val = round(rd.random(),5)\n",
    "    print(f\"nombre {i} = {val}\")"
   ]
  },
  {
   "cell_type": "code",
   "execution_count": 120,
   "id": "b471152d",
   "metadata": {},
   "outputs": [
    {
     "name": "stdout",
     "output_type": "stream",
     "text": [
      "nombre 0 = 3.47175\n",
      "nombre 1 = 1.15565\n",
      "nombre 2 = 2.05123\n",
      "nombre 3 = 1.61936\n",
      "nombre 4 = 2.81879\n"
     ]
    }
   ],
   "source": [
    "for i in range(5):\n",
    "    val = round(rd.uniform(1, 4), 5)\n",
    "    print(f\"nombre {i} = {val}\")"
   ]
  },
  {
   "cell_type": "markdown",
   "id": "4762dba5",
   "metadata": {},
   "source": [
    "##### methode2 : utilisation d'une fonction predefinie dans le module"
   ]
  },
  {
   "cell_type": "code",
   "execution_count": 124,
   "id": "f3082d81",
   "metadata": {},
   "outputs": [
    {
     "data": {
      "text/plain": [
       "[28, 27, 52, 42, 21, 13, 31, 82, 67, 75]"
      ]
     },
     "execution_count": 124,
     "metadata": {},
     "output_type": "execute_result"
    }
   ],
   "source": [
    "liste_int = rd.sample( range(1,100), 10)\n",
    "liste_int"
   ]
  },
  {
   "cell_type": "code",
   "execution_count": 125,
   "id": "d222b3a9",
   "metadata": {},
   "outputs": [
    {
     "ename": "ModuleNotFoundError",
     "evalue": "No module named 'numpy'",
     "output_type": "error",
     "traceback": [
      "\u001b[1;31m---------------------------------------------------------------------------\u001b[0m",
      "\u001b[1;31mModuleNotFoundError\u001b[0m                       Traceback (most recent call last)",
      "Cell \u001b[1;32mIn[125], line 1\u001b[0m\n\u001b[1;32m----> 1\u001b[0m \u001b[38;5;28;01mimport\u001b[39;00m \u001b[38;5;21;01mnumpy\u001b[39;00m \u001b[38;5;28;01mas\u001b[39;00m \u001b[38;5;21;01mnp\u001b[39;00m\n\u001b[0;32m      3\u001b[0m sample \u001b[38;5;241m=\u001b[39m np\u001b[38;5;241m.\u001b[39mrandom\u001b[38;5;241m.\u001b[39muniform(low\u001b[38;5;241m=\u001b[39m\u001b[38;5;241m0.0\u001b[39m, high\u001b[38;5;241m=\u001b[39m\u001b[38;5;241m1.0\u001b[39m, size\u001b[38;5;241m=\u001b[39m(\u001b[38;5;241m10\u001b[39m,))\n\u001b[0;32m      4\u001b[0m \u001b[38;5;28mlist\u001b[39m(sample)\n",
      "\u001b[1;31mModuleNotFoundError\u001b[0m: No module named 'numpy'"
     ]
    }
   ],
   "source": [
    "import numpy as np\n",
    "\n",
    "sample = np.random.uniform(low=0.0, high=1.0, size=(10,))\n",
    "list(sample)\n",
    "sample"
   ]
  },
  {
   "cell_type": "markdown",
   "id": "db1aba75",
   "metadata": {},
   "source": [
    "##### laquelle des methodes (1 et 2) est la plus rapide"
   ]
  },
  {
   "cell_type": "code",
   "execution_count": 78,
   "id": "af9f035d",
   "metadata": {},
   "outputs": [
    {
     "name": "stdout",
     "output_type": "stream",
     "text": [
      "Methode1 terminé runtime = 0.0062677860260009766\n",
      "Methode2 terminé runtime = 0.00030541419982910156\n"
     ]
    }
   ],
   "source": [
    "import time\n",
    "\n",
    "N = pow(10,4)\n",
    "def methode1():\n",
    "    start = time.time()\n",
    "    for i in range(N):\n",
    "        val = round(rd.random(), 5)\n",
    "    print(f\"Methode1 terminé runtime = {time.time() - start}\")\n",
    "    \n",
    "def methode2():\n",
    "    start = time.time()\n",
    "    sample = np.random.uniform(low=0.0, high=1.0, size=(N,))\n",
    "    print(f\"Methode2 terminé runtime = {time.time() - start}\")\n",
    "    \n",
    "methode1()\n",
    "methode2()"
   ]
  },
  {
   "cell_type": "code",
   "execution_count": 79,
   "id": "95c05247",
   "metadata": {},
   "outputs": [
    {
     "data": {
      "text/plain": [
       "20.000000000000004"
      ]
     },
     "execution_count": 79,
     "metadata": {},
     "output_type": "execute_result"
    }
   ],
   "source": [
    "0.006 / 0.0003"
   ]
  },
  {
   "cell_type": "code",
   "execution_count": 71,
   "id": "a7518bf5",
   "metadata": {},
   "outputs": [
    {
     "data": {
      "text/plain": [
       "1702460297.1747298"
      ]
     },
     "execution_count": 71,
     "metadata": {},
     "output_type": "execute_result"
    }
   ],
   "source": [
    "pow(10,4)\n",
    "10**4\n",
    "\n",
    "time.time()\n"
   ]
  },
  {
   "cell_type": "markdown",
   "id": "2716d6f2",
   "metadata": {},
   "source": [
    "# Operations Inputs/Outputs (I/O)"
   ]
  },
  {
   "cell_type": "markdown",
   "id": "4c11e705",
   "metadata": {},
   "source": [
    "#### lecture d'un fichier texte"
   ]
  },
  {
   "cell_type": "code",
   "execution_count": 103,
   "id": "e5985d91",
   "metadata": {},
   "outputs": [
    {
     "name": "stdout",
     "output_type": "stream",
     "text": [
      "1er ligne : bonjour a tous.\n",
      "\n"
     ]
    },
    {
     "data": {
      "text/plain": [
       "'1,\\n'"
      ]
     },
     "execution_count": 103,
     "metadata": {},
     "output_type": "execute_result"
    }
   ],
   "source": [
    "filin = open(\"zoo.txt\", \"r\")\n",
    "print(f\"1er ligne : {filin.readline()}\")\n",
    "filin.readline()"
   ]
  },
  {
   "cell_type": "code",
   "execution_count": 104,
   "id": "5ff012c1",
   "metadata": {},
   "outputs": [
    {
     "name": "stdout",
     "output_type": "stream",
     "text": [
      "1er ligne : bonjour a tous.\n",
      "\n",
      "2er ligne : 1,\n",
      "\n",
      "3er ligne : 2,\n",
      "\n",
      "4er ligne : 3,\n",
      "\n",
      "5er ligne : \n",
      "\n",
      "6er ligne : 5,\n",
      "\n",
      "7er ligne : 6\n",
      "\n",
      "8er ligne : \n"
     ]
    }
   ],
   "source": [
    "filin = open(\"zoo.txt\", \"r\")\n",
    "print(f\"1er ligne : {filin.readline()}\")\n",
    "print(f\"2er ligne : {filin.readline()}\")\n",
    "print(f\"3er ligne : {filin.readline()}\")\n",
    "print(f\"4er ligne : {filin.readline()}\")\n",
    "print(f\"5er ligne : {filin.readline()}\")\n",
    "print(f\"6er ligne : {filin.readline()}\")\n",
    "print(f\"7er ligne : {filin.readline()}\")\n",
    "print(f\"8er ligne : {filin.readline()}\")\n",
    "\n",
    "filin.close()"
   ]
  },
  {
   "cell_type": "code",
   "execution_count": 126,
   "id": "9b855233",
   "metadata": {},
   "outputs": [
    {
     "ename": "FileNotFoundError",
     "evalue": "[Errno 2] No such file or directory: 'zoo.txt'",
     "output_type": "error",
     "traceback": [
      "\u001b[1;31m---------------------------------------------------------------------------\u001b[0m",
      "\u001b[1;31mFileNotFoundError\u001b[0m                         Traceback (most recent call last)",
      "Cell \u001b[1;32mIn[126], line 1\u001b[0m\n\u001b[1;32m----> 1\u001b[0m filin \u001b[38;5;241m=\u001b[39m \u001b[38;5;28;43mopen\u001b[39;49m\u001b[43m(\u001b[49m\u001b[38;5;124;43m\"\u001b[39;49m\u001b[38;5;124;43mzoo.txt\u001b[39;49m\u001b[38;5;124;43m\"\u001b[39;49m\u001b[43m,\u001b[49m\u001b[43m \u001b[49m\u001b[38;5;124;43m\"\u001b[39;49m\u001b[38;5;124;43mr\u001b[39;49m\u001b[38;5;124;43m\"\u001b[39;49m\u001b[43m)\u001b[49m\n\u001b[0;32m      2\u001b[0m \u001b[38;5;28;01mfor\u001b[39;00m i \u001b[38;5;129;01min\u001b[39;00m \u001b[38;5;28mrange\u001b[39m(\u001b[38;5;241m10\u001b[39m):\n\u001b[0;32m      3\u001b[0m     \u001b[38;5;28mprint\u001b[39m(\u001b[38;5;124mf\u001b[39m\u001b[38;5;124m\"\u001b[39m\u001b[38;5;132;01m{\u001b[39;00mi\u001b[38;5;132;01m}\u001b[39;00m\u001b[38;5;124me ligne : \u001b[39m\u001b[38;5;132;01m{\u001b[39;00mfilin\u001b[38;5;241m.\u001b[39mreadline()\u001b[38;5;132;01m}\u001b[39;00m\u001b[38;5;124m\"\u001b[39m)\n",
      "File \u001b[1;32m~\\AppData\\Roaming\\Python\\Python311-32\\site-packages\\IPython\\core\\interactiveshell.py:310\u001b[0m, in \u001b[0;36m_modified_open\u001b[1;34m(file, *args, **kwargs)\u001b[0m\n\u001b[0;32m    303\u001b[0m \u001b[38;5;28;01mif\u001b[39;00m file \u001b[38;5;129;01min\u001b[39;00m {\u001b[38;5;241m0\u001b[39m, \u001b[38;5;241m1\u001b[39m, \u001b[38;5;241m2\u001b[39m}:\n\u001b[0;32m    304\u001b[0m     \u001b[38;5;28;01mraise\u001b[39;00m \u001b[38;5;167;01mValueError\u001b[39;00m(\n\u001b[0;32m    305\u001b[0m         \u001b[38;5;124mf\u001b[39m\u001b[38;5;124m\"\u001b[39m\u001b[38;5;124mIPython won\u001b[39m\u001b[38;5;124m'\u001b[39m\u001b[38;5;124mt let you open fd=\u001b[39m\u001b[38;5;132;01m{\u001b[39;00mfile\u001b[38;5;132;01m}\u001b[39;00m\u001b[38;5;124m by default \u001b[39m\u001b[38;5;124m\"\u001b[39m\n\u001b[0;32m    306\u001b[0m         \u001b[38;5;124m\"\u001b[39m\u001b[38;5;124mas it is likely to crash IPython. If you know what you are doing, \u001b[39m\u001b[38;5;124m\"\u001b[39m\n\u001b[0;32m    307\u001b[0m         \u001b[38;5;124m\"\u001b[39m\u001b[38;5;124myou can use builtins\u001b[39m\u001b[38;5;124m'\u001b[39m\u001b[38;5;124m open.\u001b[39m\u001b[38;5;124m\"\u001b[39m\n\u001b[0;32m    308\u001b[0m     )\n\u001b[1;32m--> 310\u001b[0m \u001b[38;5;28;01mreturn\u001b[39;00m \u001b[43mio_open\u001b[49m\u001b[43m(\u001b[49m\u001b[43mfile\u001b[49m\u001b[43m,\u001b[49m\u001b[43m \u001b[49m\u001b[38;5;241;43m*\u001b[39;49m\u001b[43margs\u001b[49m\u001b[43m,\u001b[49m\u001b[43m \u001b[49m\u001b[38;5;241;43m*\u001b[39;49m\u001b[38;5;241;43m*\u001b[39;49m\u001b[43mkwargs\u001b[49m\u001b[43m)\u001b[49m\n",
      "\u001b[1;31mFileNotFoundError\u001b[0m: [Errno 2] No such file or directory: 'zoo.txt'"
     ]
    }
   ],
   "source": [
    "filin = open(\"zoo.txt\", \"r\")\n",
    "for i in range(10):\n",
    "    print(f\"{i}e ligne : {filin.readline()}\")\n",
    "filin.close()"
   ]
  },
  {
   "cell_type": "code",
   "execution_count": 106,
   "id": "f8ff6ed1",
   "metadata": {},
   "outputs": [
    {
     "name": "stdout",
     "output_type": "stream",
     "text": [
      "bonjour a tous.\n",
      "\n",
      "1,\n",
      "\n",
      "2,\n",
      "\n",
      "3,\n",
      "\n",
      "\n",
      "\n",
      "5,\n",
      "\n",
      "6,\n",
      "\n",
      "7\n",
      "\n"
     ]
    }
   ],
   "source": [
    "with open(\"zoo.txt\", 'r') as filin:\n",
    "    lignes = filin.readlines()\n",
    "    for ligne in lignes:\n",
    "        print(ligne)"
   ]
  },
  {
   "cell_type": "markdown",
   "id": "9ae8288e",
   "metadata": {},
   "source": [
    "#### manipulation d'un fichier csv"
   ]
  },
  {
   "cell_type": "code",
   "execution_count": 127,
   "id": "374c5bf0",
   "metadata": {},
   "outputs": [
    {
     "ename": "ModuleNotFoundError",
     "evalue": "No module named 'pandas'",
     "output_type": "error",
     "traceback": [
      "\u001b[1;31m---------------------------------------------------------------------------\u001b[0m",
      "\u001b[1;31mModuleNotFoundError\u001b[0m                       Traceback (most recent call last)",
      "Cell \u001b[1;32mIn[127], line 1\u001b[0m\n\u001b[1;32m----> 1\u001b[0m \u001b[38;5;28;01mimport\u001b[39;00m \u001b[38;5;21;01mpandas\u001b[39;00m \u001b[38;5;28;01mas\u001b[39;00m \u001b[38;5;21;01mpd\u001b[39;00m\n\u001b[0;32m      2\u001b[0m filename \u001b[38;5;241m=\u001b[39m \u001b[38;5;124m\"\u001b[39m\u001b[38;5;124mtoto.csv\u001b[39m\u001b[38;5;124m\"\u001b[39m; sep \u001b[38;5;241m=\u001b[39m \u001b[38;5;124m\"\u001b[39m\u001b[38;5;124m;\u001b[39m\u001b[38;5;124m\"\u001b[39m\n\u001b[0;32m      3\u001b[0m \u001b[38;5;66;03m# df = pd.read_csv(filename, sep=sep)\u001b[39;00m\n",
      "\u001b[1;31mModuleNotFoundError\u001b[0m: No module named 'pandas'"
     ]
    }
   ],
   "source": [
    "import pandas as pd\n",
    "filename = \"toto.csv\"; sep = \";\"\n",
    "# df = pd.read_csv(filename, sep=sep)\n",
    "dico = {\"A\":[1, 10], \"B\":[2, 20,], \"C\":[3, 30]}\n",
    "new_df = pd.DataFrame.from_dict(dico)\n",
    "new_df"
   ]
  },
  {
   "cell_type": "code",
   "execution_count": 128,
   "id": "0dfb4f9e",
   "metadata": {},
   "outputs": [
    {
     "ename": "NameError",
     "evalue": "name 'new_df' is not defined",
     "output_type": "error",
     "traceback": [
      "\u001b[1;31m---------------------------------------------------------------------------\u001b[0m",
      "\u001b[1;31mNameError\u001b[0m                                 Traceback (most recent call last)",
      "Cell \u001b[1;32mIn[128], line 1\u001b[0m\n\u001b[1;32m----> 1\u001b[0m \u001b[43mnew_df\u001b[49m\u001b[38;5;241m.\u001b[39mloc[\u001b[38;5;241m0\u001b[39m, \u001b[38;5;124m\"\u001b[39m\u001b[38;5;124mA\u001b[39m\u001b[38;5;124m\"\u001b[39m] \u001b[38;5;66;03m#= 4\u001b[39;00m\n",
      "\u001b[1;31mNameError\u001b[0m: name 'new_df' is not defined"
     ]
    }
   ],
   "source": [
    "new_df.loc[0, \"A\"] #= 4\n"
   ]
  },
  {
   "cell_type": "code",
   "execution_count": 112,
   "id": "8ffe1a04",
   "metadata": {},
   "outputs": [
    {
     "data": {
      "text/plain": [
       "30"
      ]
     },
     "execution_count": 112,
     "metadata": {},
     "output_type": "execute_result"
    }
   ],
   "source": [
    "new_df.loc[1, \"C\"]"
   ]
  },
  {
   "cell_type": "code",
   "execution_count": 113,
   "id": "9a6a67fe",
   "metadata": {},
   "outputs": [
    {
     "data": {
      "text/html": [
       "<div>\n",
       "<style scoped>\n",
       "    .dataframe tbody tr th:only-of-type {\n",
       "        vertical-align: middle;\n",
       "    }\n",
       "\n",
       "    .dataframe tbody tr th {\n",
       "        vertical-align: top;\n",
       "    }\n",
       "\n",
       "    .dataframe thead th {\n",
       "        text-align: right;\n",
       "    }\n",
       "</style>\n",
       "<table border=\"1\" class=\"dataframe\">\n",
       "  <thead>\n",
       "    <tr style=\"text-align: right;\">\n",
       "      <th></th>\n",
       "      <th>A</th>\n",
       "      <th>B</th>\n",
       "      <th>C</th>\n",
       "    </tr>\n",
       "  </thead>\n",
       "  <tbody>\n",
       "    <tr>\n",
       "      <th>0</th>\n",
       "      <td>4</td>\n",
       "      <td>2</td>\n",
       "      <td>3</td>\n",
       "    </tr>\n",
       "    <tr>\n",
       "      <th>1</th>\n",
       "      <td>10</td>\n",
       "      <td>20</td>\n",
       "      <td>30</td>\n",
       "    </tr>\n",
       "  </tbody>\n",
       "</table>\n",
       "</div>"
      ],
      "text/plain": [
       "    A   B   C\n",
       "0   4   2   3\n",
       "1  10  20  30"
      ]
     },
     "execution_count": 113,
     "metadata": {},
     "output_type": "execute_result"
    }
   ],
   "source": [
    "new_df.loc[0, \"A\"] = 4\n",
    "new_df"
   ]
  },
  {
   "cell_type": "code",
   "execution_count": 114,
   "id": "95d1e2c0",
   "metadata": {},
   "outputs": [],
   "source": [
    "new_df.to_csv(filename, sep=sep)"
   ]
  },
  {
   "cell_type": "code",
   "execution_count": 145,
   "id": "6df35654",
   "metadata": {},
   "outputs": [
    {
     "data": {
      "text/plain": [
       "['home', 'willy', 'Bureau']"
      ]
     },
     "execution_count": 145,
     "metadata": {},
     "output_type": "execute_result"
    }
   ],
   "source": [
    "a = \"/home/willy/Bureau/\".split(\"/\") [1:4:1]\n",
    "a\n",
    "#a[-2:]"
   ]
  },
  {
   "cell_type": "code",
   "execution_count": 146,
   "id": "3c80b6e8",
   "metadata": {},
   "outputs": [
    {
     "data": {
      "text/plain": [
       "'home/willy/Bureau/toto.csv'"
      ]
     },
     "execution_count": 146,
     "metadata": {},
     "output_type": "execute_result"
    }
   ],
   "source": [
    "a.append(filename)\n",
    "\"/\".join(a)"
   ]
  },
  {
   "cell_type": "code",
   "execution_count": 148,
   "id": "03b4e79e",
   "metadata": {},
   "outputs": [],
   "source": [
    "import os\n",
    "curr_path = os.getcwd()\n",
    "path_2_save = \"/home/willy/Bureau/\"\n",
    "new_filename = path_2_save + filename\n",
    "new_filename\n",
    "new_df.to_csv(new_filename, sep=sep, index=False)"
   ]
  },
  {
   "cell_type": "code",
   "execution_count": 153,
   "id": "5a4b0e84",
   "metadata": {},
   "outputs": [],
   "source": [
    "curr_path = os.getcwd()\n",
    "liste_path = curr_path.split(\"/\")[1:4:1] # ['home', 'willy', 'Bureau']\n",
    "liste_path.append(filename)\n",
    "liste_path.insert(0,\"/\")\n",
    "\n",
    "path_2_save = liste_path\n",
    "new_filename = \"/\".join(path_2_save)\n",
    "new_filename\n",
    "new_df.to_csv(new_filename, sep=sep, index=False)"
   ]
  },
  {
   "cell_type": "markdown",
   "id": "8b1c61b2",
   "metadata": {},
   "source": [
    "# Visualisation de données"
   ]
  },
  {
   "cell_type": "code",
   "execution_count": 159,
   "id": "0fec8c82",
   "metadata": {},
   "outputs": [
    {
     "data": {
      "text/plain": [
       "-1.2108418530835834"
      ]
     },
     "execution_count": 159,
     "metadata": {},
     "output_type": "execute_result"
    }
   ],
   "source": [
    "liste\n",
    "import numpy as np\n",
    "np.random.normal()"
   ]
  },
  {
   "cell_type": "code",
   "execution_count": 165,
   "id": "485e4ca1",
   "metadata": {},
   "outputs": [],
   "source": [
    "import matplotlib.pyplot as plt\n",
    "\n",
    "#Affichage avec la bibliothèque graphique intégrée à Notebook\n",
    "%matplotlib inline "
   ]
  },
  {
   "cell_type": "code",
   "execution_count": 166,
   "id": "8f8527f4",
   "metadata": {},
   "outputs": [],
   "source": [
    "# importation de fonctions scientifiques et manipulation des structures de donnees à plusieurs dimensions\n",
    "import numpy as np"
   ]
  },
  {
   "cell_type": "code",
   "execution_count": 163,
   "id": "44913b42",
   "metadata": {},
   "outputs": [
    {
     "data": {
      "text/plain": [
       "True"
      ]
     },
     "execution_count": 163,
     "metadata": {},
     "output_type": "execute_result"
    }
   ],
   "source": [
    "x = np.linspace(0, 5*np.pi, 500)\n",
    "#x\n",
    "#x[2] - x[1]\n",
    "#x[3] - x[2]\n",
    "#x[2] - x[1] == x[3] - x[2]"
   ]
  },
  {
   "cell_type": "code",
   "execution_count": 168,
   "id": "3731468f",
   "metadata": {},
   "outputs": [
    {
     "data": {
      "text/plain": [
       "Text(0, 0.5, 'y')"
      ]
     },
     "execution_count": 168,
     "metadata": {},
     "output_type": "execute_result"
    },
    {
     "data": {
      "image/png": "[encoded data removed]",
      "text/plain": [
       "<Figure size 640x480 with 1 Axes>"
      ]
     },
     "metadata": {},
     "output_type": "display_data"
    }
   ],
   "source": [
    "plt.plot(x, np.sin(x))\n",
    "#plt.plot(x, np.cos(x))\n",
    "plt.title(\"courbe de sinus\")\n",
    "plt.xlabel(\"x\")\n",
    "plt.ylabel(\"y\")"
   ]
  },
  {
   "cell_type": "code",
   "execution_count": 170,
   "id": "3b9a75d5",
   "metadata": {},
   "outputs": [
    {
     "data": {
      "text/plain": [
       "<matplotlib.legend.Legend at 0x7fad72d73e90>"
      ]
     },
     "execution_count": 170,
     "metadata": {},
     "output_type": "execute_result"
    },
    {
     "data": {
      "image/png": "[encoded data removed]",
      "text/plain": [
       "<Figure size 640x480 with 1 Axes>"
      ]
     },
     "metadata": {},
     "output_type": "display_data"
    }
   ],
   "source": [
    "import matplotlib.pyplot as plt\n",
    "import numpy as np\n",
    "x = np.linspace(0, 5*np.pi, 500)\n",
    "y_sin = np.sin(x)\n",
    "y_cos = np.cos(x)\n",
    "plt.plot(x, y_sin, 'r--', label='sinus', linewidth=10)\n",
    "plt.plot(x, y_cos, 'b>', label='cosinus', linewidth=5)\n",
    "plt.xlabel(\"axe x\")\n",
    "plt.ylabel(\"axe y\")\n",
    "plt.title(\"Courbes de sinus et cosinus\")\n",
    "plt.legend(loc='upper right')"
   ]
  },
  {
   "cell_type": "markdown",
   "id": "72675a5f",
   "metadata": {},
   "source": [
    "### Plusieurs courbes sur la meme figure"
   ]
  },
  {
   "cell_type": "code",
   "execution_count": 106,
   "id": "02e49049",
   "metadata": {},
   "outputs": [
    {
     "data": {
      "image/png": "[encoded data removed]",
      "text/plain": [
       "<Figure size 640x480 with 4 Axes>"
      ]
     },
     "metadata": {},
     "output_type": "display_data"
    }
   ],
   "source": [
    "plt.subplot(2,2,1)\n",
    "x=np.random.randn(100)\n",
    "# plt.plot(np.random.randn(100))\n",
    "# plt.subplot(2,2,2)\n",
    "# plt.plot(np.random.random(size=100), \"+\")\n",
    "# plt.subplot(2,2,3)\n",
    "# plt.plot(np.random.random(size=100), \"r.\")\n",
    "# plt.subplot(2,2,4)\n",
    "# plt.plot(np.random.random(size=100), \"g--\")\n",
    "\n",
    "plt.plot(x)\n",
    "plt.subplot(2,2,2)\n",
    "plt.plot(x, \"+\")\n",
    "plt.subplot(2,2,3)\n",
    "plt.plot(x, \"r.\")\n",
    "plt.subplot(2,2,4)\n",
    "plt.plot(x, \"g--\")\n",
    "\n",
    "plt.savefig(\"mes\\_graphiques.jpg\")\n",
    "plt.show()"
   ]
  },
  {
   "cell_type": "markdown",
   "id": "636cb539",
   "metadata": {},
   "source": [
    "### Nuage de points"
   ]
  },
  {
   "cell_type": "code",
   "execution_count": 171,
   "id": "d66c1f54",
   "metadata": {},
   "outputs": [
    {
     "data": {
      "image/png": "[encoded data removed]",
      "text/plain": [
       "<Figure size 640x480 with 2 Axes>"
      ]
     },
     "metadata": {},
     "output_type": "display_data"
    }
   ],
   "source": [
    "import matplotlib.pyplot as plt\n",
    "import numpy as np\n",
    "x = np.random.random(size=100)\n",
    "y = np.random.random(size=100)\n",
    "taille = np.random.random(size=100)*100\n",
    "couleurs = np.random.random(size=100)*100\n",
    "plt.scatter(x,y,s=taille, c=couleurs, cmap=plt.get_cmap(\"Greys\"))\n",
    "plt.xlabel(\"X\")\n",
    "plt.xlabel(\"Y\")\n",
    "plt.title(\"Représentation des points aléatoires\")\n",
    "plt.colorbar() \n",
    "plt.savefig(\"mes\\_graphiques.jpg\")\n",
    "plt.show()"
   ]
  },
  {
   "cell_type": "markdown",
   "id": "b4842c52",
   "metadata": {},
   "source": [
    "### Diagramme en batons"
   ]
  },
  {
   "cell_type": "code",
   "execution_count": 172,
   "id": "c4a19532",
   "metadata": {},
   "outputs": [
    {
     "data": {
      "text/plain": [
       "<BarContainer object of 5 artists>"
      ]
     },
     "execution_count": 172,
     "metadata": {},
     "output_type": "execute_result"
    },
    {
     "data": {
      "image/png": "[encoded data removed]",
      "text/plain": [
       "<Figure size 640x480 with 1 Axes>"
      ]
     },
     "metadata": {},
     "output_type": "display_data"
    }
   ],
   "source": [
    "plt.bar(range(5), [2,4,6,4,7])"
   ]
  },
  {
   "cell_type": "markdown",
   "id": "8dd4f1be",
   "metadata": {},
   "source": [
    "### Diagramme en camembert"
   ]
  },
  {
   "cell_type": "code",
   "execution_count": 129,
   "id": "d8b31f1c",
   "metadata": {},
   "outputs": [
    {
     "ename": "NameError",
     "evalue": "name 'plt' is not defined",
     "output_type": "error",
     "traceback": [
      "\u001b[1;31m---------------------------------------------------------------------------\u001b[0m",
      "\u001b[1;31mNameError\u001b[0m                                 Traceback (most recent call last)",
      "Cell \u001b[1;32mIn[129], line 4\u001b[0m\n\u001b[0;32m      1\u001b[0m labels \u001b[38;5;241m=\u001b[39m [\u001b[38;5;124m'\u001b[39m\u001b[38;5;124mFrogs\u001b[39m\u001b[38;5;124m'\u001b[39m, \u001b[38;5;124m'\u001b[39m\u001b[38;5;124mHogs\u001b[39m\u001b[38;5;124m'\u001b[39m, \u001b[38;5;124m'\u001b[39m\u001b[38;5;124mDogs\u001b[39m\u001b[38;5;124m'\u001b[39m, \u001b[38;5;124m'\u001b[39m\u001b[38;5;124mLogs\u001b[39m\u001b[38;5;124m'\u001b[39m]\n\u001b[0;32m      2\u001b[0m sizes \u001b[38;5;241m=\u001b[39m [\u001b[38;5;241m15\u001b[39m, \u001b[38;5;241m30\u001b[39m, \u001b[38;5;241m45\u001b[39m, \u001b[38;5;241m10\u001b[39m]\n\u001b[1;32m----> 4\u001b[0m \u001b[43mplt\u001b[49m\u001b[38;5;241m.\u001b[39mpie(sizes, labels\u001b[38;5;241m=\u001b[39mlabels)\n",
      "\u001b[1;31mNameError\u001b[0m: name 'plt' is not defined"
     ]
    }
   ],
   "source": [
    "labels = ['Frogs', 'Hogs', 'Dogs', 'Logs']\n",
    "sizes = [15, 30, 45, 10]\n",
    "\n",
    "plt.pie(sizes, labels=labels)"
   ]
  },
  {
   "cell_type": "markdown",
   "id": "c2554502",
   "metadata": {},
   "source": [
    "### Diagramme en histogramme"
   ]
  },
  {
   "cell_type": "code",
   "execution_count": 178,
   "id": "9a5d64a0",
   "metadata": {},
   "outputs": [
    {
     "data": {
      "text/plain": [
       "<matplotlib.legend.Legend at 0x7fad6d533e90>"
      ]
     },
     "execution_count": 178,
     "metadata": {},
     "output_type": "execute_result"
    },
    {
     "data": {
      "image/png": "[encoded data removed]",
      "text/plain": [
       "<Figure size 640x480 with 1 Axes>"
      ]
     },
     "metadata": {},
     "output_type": "display_data"
    }
   ],
   "source": [
    "data1 = np.random.randn(10_000)+1\n",
    "data2 = np.random.randn(10_000)\n",
    "plt.hist(data1, bins=50, color=\"blue\", label=\"données 1\", alpha=0.5) \n",
    "plt.hist(data2, bins=50, color=\"red\", label=\"données 2\", alpha=0.5)            \n",
    "plt.title(\"histogrammes\")\n",
    "plt.ylabel(\"Fréquences\")\n",
    "plt.legend()"
   ]
  },
  {
   "cell_type": "code",
   "execution_count": null,
   "id": "9bdf26db",
   "metadata": {},
   "outputs": [],
   "source": [
    "x"
   ]
  },
  {
   "cell_type": "code",
   "execution_count": null,
   "id": "143d43a0",
   "metadata": {},
   "outputs": [],
   "source": [
    "np.linspace(0,5, 100) ** 2"
   ]
  },
  {
   "cell_type": "code",
   "execution_count": null,
   "id": "cf4abd38",
   "metadata": {},
   "outputs": [],
   "source": [
    "x1 = np.linspace(-5,5, 100)\n",
    "y1 = np.sin(x1) * np.exp(-x1**2)\n",
    "plt.plot(x1, y1)"
   ]
  },
  {
   "cell_type": "markdown",
   "id": "a61af8a7",
   "metadata": {},
   "source": []
  }
 ],
 "metadata": {
  "kernelspec": {
   "display_name": "Python 3 (ipykernel)",
   "language": "python",
   "name": "python3"
  },
  "language_info": {
   "codemirror_mode": {
    "name": "ipython",
    "version": 3
   },
   "file_extension": ".py",
   "mimetype": "text/x-python",
   "name": "python",
   "nbconvert_exporter": "python",
   "pygments_lexer": "ipython3",
   "version": "3.11.5"
  }
 },
 "nbformat": 4,
 "nbformat_minor": 5
}
